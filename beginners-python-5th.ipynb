{
 "cells": [
  {
   "cell_type": "markdown",
   "id": "89442d51",
   "metadata": {},
   "source": [
    "# 0교시 (09:30~10:40) \n",
    "\n",
    "### Recap (5 min)\n",
    "- If 문과 같이 사용할 연산자 (==, !=, >, <, >=, <=, and, not)\n",
    "- in, not in\n",
    "- While 문\n",
    "\n",
    "\n",
    "### while 문 과제 풀이 (15 min) \n",
    "### if 문 (50 min)"
   ]
  },
  {
   "cell_type": "markdown",
   "id": "baac1eed",
   "metadata": {},
   "source": [
    "# "
   ]
  },
  {
   "cell_type": "markdown",
   "id": "1dc58ea5",
   "metadata": {},
   "source": [
    "### 과제"
   ]
  },
  {
   "cell_type": "code",
   "execution_count": null,
   "id": "b83bcc35",
   "metadata": {},
   "outputs": [],
   "source": [
    "# Q1. while문을 사용해 1부터 1000까지의 자연수 중 3의 배수의 합을 구해 보자."
   ]
  },
  {
   "cell_type": "code",
   "execution_count": null,
   "id": "9811e8af",
   "metadata": {},
   "outputs": [],
   "source": [
    "# Q2. while문을 사용하여 다음과 같이 별(*)을 표시하는 프로그램을 작성해 보자.\n",
    "\n",
    "*\n",
    "**\n",
    "***\n",
    "****\n",
    "*****"
   ]
  },
  {
   "cell_type": "markdown",
   "id": "a833de8d",
   "metadata": {},
   "source": [
    "# "
   ]
  },
  {
   "cell_type": "markdown",
   "id": "60af3530",
   "metadata": {},
   "source": [
    "### for 문\n",
    "- If 문 -> 조건문\n",
    "- While 문 -> 반복문\n",
    "- for 문 -> 반복문 2 "
   ]
  },
  {
   "cell_type": "code",
   "execution_count": null,
   "id": "99696ab0",
   "metadata": {},
   "outputs": [],
   "source": [
    "# 기본 구조\n",
    "# for A in B, ~~~  \n",
    "    # B 는 범위, A 는 범위 내 하나의 요소\n",
    "    # B 는 복수, A 는 단수 \n",
    "# for student in students_of_ewha, say \"every woman has ambition!\"\n",
    "\n",
    "students_of_ewha = [\"Haeun\", \"YaeSun\", \"YeahWon\", \"DaEun\", \"HyunJeong\"]\n",
    "\n",
    "for student in students_of_ewha:\n",
    "    print(\"every woman has ambition\")"
   ]
  },
  {
   "cell_type": "code",
   "execution_count": null,
   "id": "67e15896",
   "metadata": {
    "scrolled": true
   },
   "outputs": [],
   "source": [
    "students_of_ewha = [\"Haeun\", \"YaeSun\", \"YeahWon\", \"DaEun\", \"HyunJeong\"]\n",
    "\n",
    "for student in students_of_ewha:\n",
    "    print(\"every\")\n",
    "    print(\"woman\")\n",
    "    print(\"has\")\n",
    "    print(\"ambition\")\n",
    "    print(\"=====\")"
   ]
  },
  {
   "cell_type": "code",
   "execution_count": null,
   "id": "fddd7e79",
   "metadata": {},
   "outputs": [],
   "source": [
    "students_of_ewha = [\"Haeun\", \"YaeSun\", \"YeahWon\", \"DaEun\", \"HyunJeong\"]\n",
    "\n",
    "for student in students_of_ewha:\n",
    "    print(student)\n",
    "    print(\"=====\")"
   ]
  },
  {
   "cell_type": "code",
   "execution_count": null,
   "id": "7cf47503",
   "metadata": {},
   "outputs": [],
   "source": [
    "# students_of_ewha 를 순차적으로 반복하며, 첫 번째 요소부터 i 변수에 대입한다.\n",
    "# for 문 안의 명령들을 수행한다. 끝까지 수행하고 나면, 첫 번째 요소에 대한 실행은 끝난다.\n",
    "# 두 번째 요소를 i 에 대입하고, 동일한 작업을 반복한다.\n",
    "# 범위 끝까지 반복한 뒤, 반복문을 전부 종료한다. \n",
    "\n",
    "students_of_ewha = [\"Haeun\", \"YaeSun\", \"YeahWon\", \"DaEun\", \"HyunJeong\"]\n",
    "n = 1\n",
    "for i in students_of_ewha:\n",
    "    print(f\"{n}번째 반복입니다\")\n",
    "    n = n + 1\n",
    "    print(\"현재 i 에 담긴 값은:\", i)\n",
    "    print(\"=====\")"
   ]
  },
  {
   "cell_type": "code",
   "execution_count": null,
   "id": "03a2d004",
   "metadata": {},
   "outputs": [],
   "source": [
    "# string 반복 \n",
    "\n",
    "name = \"Taylor\"\n",
    "for letter in name:\n",
    "    print(letter)"
   ]
  },
  {
   "cell_type": "code",
   "execution_count": null,
   "id": "60f14e7c",
   "metadata": {},
   "outputs": [],
   "source": [
    "# 범위 직접 지정해주기\n",
    "# range(시작 숫자, 끝 숫자) \n",
    "\n",
    "for i in range(0, 10):\n",
    "    print(i)"
   ]
  },
  {
   "cell_type": "code",
   "execution_count": null,
   "id": "8d6c4e64",
   "metadata": {},
   "outputs": [],
   "source": [
    "for i in range(10, 15):\n",
    "    print(i)"
   ]
  },
  {
   "cell_type": "code",
   "execution_count": null,
   "id": "6c540d9a",
   "metadata": {},
   "outputs": [],
   "source": [
    "for i in range(4):\n",
    "    print(i)"
   ]
  },
  {
   "cell_type": "code",
   "execution_count": null,
   "id": "1387d508",
   "metadata": {},
   "outputs": [],
   "source": [
    "# for와 range 함수를 사용해 1부터 10까지 더하가\n",
    "\n",
    "sum = 0\n",
    "for i in range(11):\n",
    "    sum = sum + i\n",
    "    print(\"current sum: \", sum)\n",
    "\n",
    "print(\"total sum:\", sum)"
   ]
  },
  {
   "cell_type": "code",
   "execution_count": 20,
   "id": "75cf6075",
   "metadata": {
    "scrolled": true
   },
   "outputs": [
    {
     "name": "stdout",
     "output_type": "stream",
     "text": [
      "3\n",
      "6\n",
      "9\n",
      "12\n",
      "15\n",
      "18\n"
     ]
    }
   ],
   "source": [
    "# for와 if 문 사용하여, 1부터 20 까지의 숫자 중 3 의 배수만 출력하기\n",
    "\n",
    "for i in range(1, 21):\n",
    "    if i % 3 == 0:\n",
    "        print(i)"
   ]
  },
  {
   "cell_type": "markdown",
   "id": "e7370854",
   "metadata": {},
   "source": [
    "# "
   ]
  },
  {
   "cell_type": "markdown",
   "id": "06bcc3cd",
   "metadata": {},
   "source": [
    "#### Quiz 1: "
   ]
  },
  {
   "cell_type": "code",
   "execution_count": 19,
   "id": "da626763",
   "metadata": {},
   "outputs": [
    {
     "name": "stdout",
     "output_type": "stream",
     "text": [
      "every woman has ambition\n",
      "every woman has ambition\n",
      "every woman has ambition\n",
      "every woman has ambition\n",
      "every woman has ambition\n"
     ]
    }
   ],
   "source": [
    "# 아래 코드를 수정하여, 다음과 같은 결과물이 나오게 하세요.\n",
    "# Haeun has ambition\n",
    "# YaeSun has ambition\n",
    "# YeahWon has ambition\n",
    "# DaEun has ambition\n",
    "# HyunJeong has ambition\n",
    "\n",
    "students_of_ewha = [\"Haeun\", \"YaeSun\", \"YeahWon\", \"DaEun\", \"HyunJeong\"]\n",
    "\n",
    "for student in students_of_ewha:\n",
    "    print(\"every woman has ambition\")"
   ]
  },
  {
   "cell_type": "markdown",
   "id": "f9c1d2b5",
   "metadata": {},
   "source": [
    "#### Quiz 2: "
   ]
  },
  {
   "cell_type": "code",
   "execution_count": null,
   "id": "4e95e1f0",
   "metadata": {},
   "outputs": [],
   "source": [
    "# 총 5명의 학생이 시험을 보았는데 시험 점수가 60점이 넘으면 합격이고 그렇지 않으면 불합격입니다. 합격인지 불합격인지 결과를 아래처럼 보여 주세요.\n",
    "# 1번 학생은 합격입니다.\n",
    "# 2번 학생은 불합격입니다.\n",
    "# 3번 학생은 합격입니다.\n",
    "# 4번 학생은 불합격입니다.\n",
    "# 5번 학생은 합격입니다.\n",
    "\n",
    "students_scores = [90, 25, 67, 45, 80]"
   ]
  },
  {
   "cell_type": "markdown",
   "id": "ee318cf8",
   "metadata": {},
   "source": [
    "# "
   ]
  },
  {
   "cell_type": "markdown",
   "id": "06b8924b",
   "metadata": {},
   "source": [
    "# "
   ]
  },
  {
   "cell_type": "code",
   "execution_count": 31,
   "id": "8feaafe1",
   "metadata": {
    "scrolled": true
   },
   "outputs": [
    {
     "name": "stdout",
     "output_type": "stream",
     "text": [
      "0\n",
      "100\n",
      "101\n",
      "102\n",
      "103\n",
      "104\n",
      "END!\n",
      "1\n",
      "100\n",
      "101\n",
      "102\n",
      "103\n",
      "104\n",
      "END!\n",
      "2\n",
      "100\n",
      "101\n",
      "102\n",
      "103\n",
      "104\n",
      "END!\n"
     ]
    }
   ],
   "source": [
    "# 이중 for 문\n",
    "\n",
    "for i in range(3):\n",
    "    print(i)\n",
    "    for j in range(100,105):\n",
    "        print(j)\n",
    "    print(\"END!\")"
   ]
  },
  {
   "cell_type": "code",
   "execution_count": 24,
   "id": "90026571",
   "metadata": {
    "scrolled": true
   },
   "outputs": [
    {
     "name": "stdout",
     "output_type": "stream",
     "text": [
      "2 4 6 8 10 12 14 16 18 \n",
      "3 6 9 12 15 18 21 24 27 \n",
      "4 8 12 16 20 24 28 32 36 \n",
      "5 10 15 20 25 30 35 40 45 \n",
      "6 12 18 24 30 36 42 48 54 \n",
      "7 14 21 28 35 42 49 56 63 \n",
      "8 16 24 32 40 48 56 64 72 \n",
      "9 18 27 36 45 54 63 72 81 \n"
     ]
    }
   ],
   "source": [
    "# 이중 for 문으로 구구단 출력하기 \n",
    "\n",
    "for i in range(2, 10):\n",
    "    for j in range(1, 10):\n",
    "        print(i * j, end=\" \")\n",
    "    print(\"\")"
   ]
  },
  {
   "cell_type": "markdown",
   "id": "57f8ffda",
   "metadata": {},
   "source": [
    "#### Quiz 3: "
   ]
  },
  {
   "cell_type": "code",
   "execution_count": 29,
   "id": "e20d8e9d",
   "metadata": {},
   "outputs": [],
   "source": [
    "# 아래 test_scores 에는 각기 다른 학생들의 시험 결과가 list 로 들어가 있습니다.\n",
    "# 이중 for 문을 이용하여, 각 학생의 평균 점수가 출력되도록 하세요.\n",
    "\n",
    "test_scores = [[10,4,6,3], [6,2,4,1], [7,7,8,8], [9,8,10,9]]"
   ]
  },
  {
   "cell_type": "code",
   "execution_count": 122,
   "id": "b5343d42",
   "metadata": {},
   "outputs": [
    {
     "name": "stdout",
     "output_type": "stream",
     "text": [
      "이 학생의 평균은:  5.75\n",
      "이 학생의 평균은:  3.25\n",
      "이 학생의 평균은:  7.5\n",
      "이 학생의 평균은:  9.0\n"
     ]
    }
   ],
   "source": [
    "test_scores = [[10,4,6,3], [6,2,4,1], [7,7,8,8], [9,8,10,9]]\n",
    "\n",
    "# 범위 1: test_scores \n",
    "\n",
    "for student_score in test_scores:\n",
    "    # student_score = [6,2,4,1]\n",
    "    sum = 0\n",
    "    for j in student_score: \n",
    "        # j = 6 2 4 1\n",
    "        sum = sum + j\n",
    "    print(\"이 학생의 평균은: \", sum / 4)"
   ]
  },
  {
   "cell_type": "markdown",
   "id": "c2371741",
   "metadata": {},
   "source": [
    "# "
   ]
  },
  {
   "cell_type": "markdown",
   "id": "dd67b09b",
   "metadata": {},
   "source": [
    "# "
   ]
  },
  {
   "cell_type": "markdown",
   "id": "4b1c132d",
   "metadata": {},
   "source": [
    "# 1교시 (11:00~12:00) \n",
    "\n",
    "### Python 으로 메일함 읽어보기"
   ]
  },
  {
   "cell_type": "code",
   "execution_count": 90,
   "id": "71f2eb99",
   "metadata": {},
   "outputs": [
    {
     "name": "stdout",
     "output_type": "stream",
     "text": [
      "From: Mail Delivery Subsystem <mailer-daemon@googlemail.com>\n",
      "To: pythontesthaeun@gmail.com\n",
      "Date: Fri, 11 Nov 2022 00:20:38 -0800 (PST)\n",
      "Subject: Delivery Status Notification (Failure)\n",
      "Encoded Subject: Delivery Status Notification (Failure)\n",
      "Body: multipart/report\n",
      "From: Kang Haeun <pythontesthaeun@gmail.com>\n",
      "To: pythontesthaeun@gmail.com\n",
      "Date: Fri, 11 Nov 2022 17:21:05 +0900\n",
      "Subject: TEST\n",
      "Encoded Subject: TEST\n",
      "Body: multipart/alternative\n",
      "From: Google <no-reply@accounts.google.com>\n",
      "To: pythontesthaeun@gmail.com\n",
      "Date: Fri, 11 Nov 2022 08:27:42 GMT\n",
      "Subject: =?UTF-8?B?67O07JWIIOyVjOumvA==?=\n",
      "Encoded Subject: 보안 알림\n",
      "Body: multipart/alternative\n",
      "From: Google <no-reply@accounts.google.com>\n",
      "To: pythontesthaeun@gmail.com\n",
      "Date: Fri, 11 Nov 2022 08:27:45 GMT\n",
      "Subject: =?UTF-8?B?MuuLqOqzhCDsnbjspp3snbQg7IKs7JqpIOyEpOygleuQqA==?=\n",
      "Encoded Subject: 2단계 인증이 사용 설정됨\n",
      "Body: multipart/alternative\n",
      "From: Google <no-reply@accounts.google.com>\n",
      "To: pythontesthaeun@gmail.com\n",
      "Date: Fri, 11 Nov 2022 08:28:17 GMT\n",
      "Subject: =?UTF-8?B?67O07JWIIOyVjOumvA==?=\n",
      "Encoded Subject: 보안 알림\n",
      "Body: multipart/alternative\n",
      "From: Google <no-reply@accounts.google.com>\n",
      "To: pythontesthaeun@gmail.com\n",
      "Date: Fri, 11 Nov 2022 08:29:17 GMT\n",
      "Subject: =?UTF-8?B?67O07JWIIOyVjOumvA==?=\n",
      "Encoded Subject: 보안 알림\n",
      "Body: multipart/alternative\n",
      "From: Kang Haeun <pythontesthaeun@gmail.com>\n",
      "To: Kang Haeun <pythontesthaeun@gmail.com>\n",
      "Date: Fri, 11 Nov 2022 17:31:26 +0900\n",
      "Subject: TEST 2\n",
      "Encoded Subject: TEST 2\n",
      "Body: multipart/alternative\n",
      "From: Kang Haeun <pythontesthaeun@gmail.com>\n",
      "To: Kang Haeun <pythontesthaeun@gmail.com>\n",
      "Date: Fri, 11 Nov 2022 17:31:39 +0900\n",
      "Subject: to me from me\n",
      "Encoded Subject: to me from me\n",
      "Body: multipart/alternative\n",
      "From: =?utf-8?B?6rCV7ZWY7J2A?= <haeun_yah@naver.com>\n",
      "To: <pythontesthaeun@gmail.com>\n",
      "Date: Sat, 12 Nov 2022 10:18:55 +0900\n",
      "Subject: =?utf-8?B?7YWM7Iqk7Yq47Yq47Yq47Yq4?=\n",
      "Encoded Subject: 테스트트트트\n",
      "Body: multipart/alternative\n"
     ]
    },
    {
     "data": {
      "text/plain": [
       "('OK', [b'Returned to authenticated state. (Success)'])"
      ]
     },
     "execution_count": 90,
     "metadata": {},
     "output_type": "execute_result"
    }
   ],
   "source": [
    "import imaplib\n",
    "import email\n",
    "from email.header import decode_header\n",
    "\n",
    "email_address = \"pythontesthaeun@gmail.com\"\n",
    "password = \"bzgailackktgibfe\" # 2단계 인증 후 앱 비밀번호 생성 필요 \n",
    "\n",
    "imap = imaplib.IMAP4_SSL(\"imap.gmail.com\")\n",
    "imap.login(email_address, password)\n",
    "\n",
    "imap.select(\"INBOX\")\n",
    "_, messages = imap.search(None, \"ALL\")\n",
    "messages = messages[0].split()\n",
    "\n",
    "for i in messages: \n",
    "    _, data = imap.fetch(i, \"(RFC822)\")\n",
    "    message = email.message_from_bytes(data[0][1])\n",
    "    \n",
    "    subject, encoding = decode_header(message[\"Subject\"])[0]\n",
    "    if encoding == \"utf-8\":\n",
    "        subject = subject.decode(encoding)   \n",
    "    \n",
    "#     body_1 = message.get_payload(decode=True)\n",
    "#     _, body_2 = imap.fetch(i, \"(BODY[HEADER.FIELDS (UID BODY[TEXT])])\")\n",
    "    print(f\"From: {message.get('From')}\")\n",
    "    print(f\"To: {message.get('To')}\")\n",
    "    print(f\"Date: {message.get('Date')}\")\n",
    "    print(f\"Subject: {message.get('Subject')}\")\n",
    "    print(f\"Encoded Subject: {subject}\")\n",
    "    print(f\"Body: {message.get_content_type()}\")\n",
    "    \n",
    "imap.close()"
   ]
  },
  {
   "cell_type": "code",
   "execution_count": null,
   "id": "91701e12",
   "metadata": {},
   "outputs": [],
   "source": []
  }
 ],
 "metadata": {
  "kernelspec": {
   "display_name": "Python 3 (ipykernel)",
   "language": "python",
   "name": "python3"
  },
  "language_info": {
   "codemirror_mode": {
    "name": "ipython",
    "version": 3
   },
   "file_extension": ".py",
   "mimetype": "text/x-python",
   "name": "python",
   "nbconvert_exporter": "python",
   "pygments_lexer": "ipython3",
   "version": "3.9.12"
  }
 },
 "nbformat": 4,
 "nbformat_minor": 5
}
