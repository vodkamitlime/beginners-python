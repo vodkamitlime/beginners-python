{
 "cells": [
  {
   "cell_type": "markdown",
   "id": "7c10a329",
   "metadata": {},
   "source": [
    "# 0교시 (09:30~10:17) \n",
    "\n",
    "### 자기소개\n",
    "- what do you know about coding? python? \n",
    "\n",
    "### 파이썬 개요\n",
    "- 파이썬을 배우면 무엇을 할 수 있을까?\n",
    "    - 웹사이트 만들기\n",
    "    - 원하는 데이터 불러오고, 데이터 분석하기\n",
    "    - 자동화 (반복적인 단순 작업을 기계에게 시키기) \n",
    "    - 이메일 읽고 쓰기 \n",
    "- What is python and why?\n",
    "    - 1990년 암스테르담의 귀도 반 로섬(Guido Van Rossum)이 개발한 인터프리터 언어\n",
    "    - 컴퓨터 프로그래밍 교육을 위해 많이 사용하지만, 기업의 실무를 위해서도 많이 사용하는 언어\n",
    "    - fast, easy, human-readable, economical, etc... \n",
    "        - System.out.println(\"This is Java\"); \n",
    "        - print(\"This is python\");\n",
    "    - 출처: [점프투 파이썬](https://wikidocs.net/4307)\n",
    "\n",
    "### 주피터 노트북 개요 \n",
    "- what is jupyter notebook? \n",
    "    - Julia, python, R\n",
    "    - REPL (Read–eval–print loop) \n",
    "    - 언어 vs 실행 환경 \n",
    "- 주피터 노트북 기본 사용법\n",
    "    - 실행: Shift + Enter\n",
    "    - 외부 mode 전환 (파란색 cell) : Esc\n",
    "    - 내부 mode 전환 (초록색 cell) : Enter\n",
    "    - new cell : B, A\n",
    "    - delete cell : DD \n",
    "    \n",
    "    \n",
    "    \n",
    "    \n",
    "    \n",
    "    \n",
    "    \n",
    "    \n",
    "    \n",
    "    "
   ]
  },
  {
   "cell_type": "markdown",
   "id": "c70b1a6e",
   "metadata": {},
   "source": [
    "# "
   ]
  },
  {
   "cell_type": "markdown",
   "id": "d6141b0c",
   "metadata": {},
   "source": [
    "# "
   ]
  },
  {
   "cell_type": "markdown",
   "id": "e0594202",
   "metadata": {},
   "source": [
    "# "
   ]
  },
  {
   "cell_type": "markdown",
   "id": "b121fd3f",
   "metadata": {},
   "source": [
    "# 1교시 (10:30~11:10)"
   ]
  },
  {
   "cell_type": "markdown",
   "id": "e8c64fa8",
   "metadata": {},
   "source": [
    "### 자료형\n",
    "- 모든 언어의 기본\n",
    "- data type, 데이터를 메모리에 저장하는 방식 \n",
    "- 문자열 (string), 숫자 (number, integer), 배열 (array, list), 객체 (object, dictionary), 참거짓 (boolean), etc.... \n",
    "\n",
    "### 변수   \n",
    "- variable\n",
    "- 데이터를 담는 \"그릇\"\n",
    "- \"선언\" (define) 과 \"할당\" (assign) 을 분리 \n",
    "- 변수의 이름은 \"변수명\" "
   ]
  },
  {
   "cell_type": "code",
   "execution_count": null,
   "id": "3f7775a7",
   "metadata": {},
   "outputs": [],
   "source": [
    "a = 0\n",
    "b = 1\n",
    "test = 8"
   ]
  },
  {
   "cell_type": "code",
   "execution_count": null,
   "id": "a22536dd",
   "metadata": {},
   "outputs": [],
   "source": [
    "a"
   ]
  },
  {
   "cell_type": "code",
   "execution_count": null,
   "id": "ba005753",
   "metadata": {},
   "outputs": [],
   "source": [
    "b"
   ]
  },
  {
   "cell_type": "code",
   "execution_count": null,
   "id": "f1608e15",
   "metadata": {},
   "outputs": [],
   "source": [
    "test"
   ]
  },
  {
   "cell_type": "code",
   "execution_count": null,
   "id": "1cf37271",
   "metadata": {},
   "outputs": [],
   "source": [
    "test = 5\n",
    "test"
   ]
  },
  {
   "cell_type": "code",
   "execution_count": null,
   "id": "c204228f",
   "metadata": {},
   "outputs": [],
   "source": [
    "test = b\n",
    "test"
   ]
  },
  {
   "cell_type": "markdown",
   "id": "3feb3fa2",
   "metadata": {},
   "source": [
    "#### 숫자형 (Number)\n",
    "- 정수, 실수, 8진수, 16진수 등 \n",
    "- 연산자 "
   ]
  },
  {
   "cell_type": "code",
   "execution_count": null,
   "id": "b5f15d4c",
   "metadata": {},
   "outputs": [],
   "source": [
    "a = 4\n",
    "b = 2"
   ]
  },
  {
   "cell_type": "code",
   "execution_count": null,
   "id": "db591fa2",
   "metadata": {},
   "outputs": [],
   "source": [
    "a + b"
   ]
  },
  {
   "cell_type": "code",
   "execution_count": null,
   "id": "b6b5425c",
   "metadata": {},
   "outputs": [],
   "source": [
    "1 + 3 + 4"
   ]
  },
  {
   "cell_type": "code",
   "execution_count": null,
   "id": "3191111a",
   "metadata": {},
   "outputs": [],
   "source": [
    "a + b + 6 + 10"
   ]
  },
  {
   "cell_type": "code",
   "execution_count": null,
   "id": "c71a02c5",
   "metadata": {},
   "outputs": [],
   "source": [
    "a - b"
   ]
  },
  {
   "cell_type": "code",
   "execution_count": null,
   "id": "cd4c0750",
   "metadata": {},
   "outputs": [],
   "source": [
    "a / b"
   ]
  },
  {
   "cell_type": "code",
   "execution_count": null,
   "id": "aaf935f8",
   "metadata": {},
   "outputs": [],
   "source": [
    "a * b"
   ]
  },
  {
   "cell_type": "code",
   "execution_count": null,
   "id": "a9b2a2f4",
   "metadata": {},
   "outputs": [],
   "source": [
    "a = 2\n",
    "b = 3\n",
    "a ** b"
   ]
  },
  {
   "cell_type": "code",
   "execution_count": null,
   "id": "d14f25f4",
   "metadata": {},
   "outputs": [],
   "source": [
    "a = 5\n",
    "b = 2\n",
    "a % b"
   ]
  },
  {
   "cell_type": "code",
   "execution_count": null,
   "id": "10caf2d9",
   "metadata": {},
   "outputs": [],
   "source": [
    "a / b"
   ]
  },
  {
   "cell_type": "code",
   "execution_count": null,
   "id": "262518ee",
   "metadata": {},
   "outputs": [],
   "source": [
    "a // b"
   ]
  },
  {
   "cell_type": "markdown",
   "id": "a057b168",
   "metadata": {},
   "source": [
    "##### Quiz 1. \n",
    "숫자 n 을 받았을 때, 어떻게 하면 이 숫자가 홀수인지 짝수인지 판단할 수 있을까요? "
   ]
  },
  {
   "cell_type": "markdown",
   "id": "3b0cf36f",
   "metadata": {},
   "source": [
    "# "
   ]
  },
  {
   "cell_type": "markdown",
   "id": "69ae3813",
   "metadata": {},
   "source": [
    "# "
   ]
  },
  {
   "cell_type": "markdown",
   "id": "f3399822",
   "metadata": {},
   "source": [
    "# "
   ]
  },
  {
   "cell_type": "markdown",
   "id": "ded3e0a8",
   "metadata": {},
   "source": [
    "# "
   ]
  },
  {
   "cell_type": "markdown",
   "id": "e6db3707",
   "metadata": {},
   "source": [
    "#### Quiz 1 Answer\n",
    "- % 사용해서 판별"
   ]
  },
  {
   "cell_type": "code",
   "execution_count": null,
   "id": "2be10f56",
   "metadata": {},
   "outputs": [],
   "source": [
    "n = -3\n",
    "n % 2"
   ]
  },
  {
   "cell_type": "markdown",
   "id": "a0133e52",
   "metadata": {},
   "source": [
    "# "
   ]
  },
  {
   "cell_type": "markdown",
   "id": "7c827f4b",
   "metadata": {},
   "source": [
    "#### 문자열 (string)\n",
    "- \"\" 또는 '' 사용\n",
    "- 숫자여도, 따옴표 사이에 있으면 문자열 타입임"
   ]
  },
  {
   "cell_type": "code",
   "execution_count": null,
   "id": "7d07e8df",
   "metadata": {},
   "outputs": [],
   "source": [
    "\"Life is too short, You need Python\"\n",
    "\n",
    "'a'"
   ]
  },
  {
   "cell_type": "code",
   "execution_count": null,
   "id": "6d59a16b",
   "metadata": {},
   "outputs": [],
   "source": [
    "'Haeuns's quote: Life is too short, You need Python'"
   ]
  },
  {
   "cell_type": "code",
   "execution_count": null,
   "id": "eee9c6c2",
   "metadata": {},
   "outputs": [],
   "source": [
    "\"Haeuns's quote: Life is too short, You need Python\""
   ]
  },
  {
   "cell_type": "code",
   "execution_count": null,
   "id": "7af81346",
   "metadata": {},
   "outputs": [],
   "source": [
    "'Haeun said, \"Life is too short, You need Python\"'"
   ]
  },
  {
   "cell_type": "code",
   "execution_count": null,
   "id": "81ebcdf2",
   "metadata": {},
   "outputs": [],
   "source": [
    "z = \"string\""
   ]
  },
  {
   "cell_type": "code",
   "execution_count": null,
   "id": "63953e4f",
   "metadata": {},
   "outputs": [],
   "source": [
    "x = \"New \""
   ]
  },
  {
   "cell_type": "code",
   "execution_count": null,
   "id": "58413382",
   "metadata": {},
   "outputs": [],
   "source": [
    "x + z"
   ]
  },
  {
   "cell_type": "code",
   "execution_count": null,
   "id": "59211392",
   "metadata": {},
   "outputs": [],
   "source": [
    "a = 5"
   ]
  },
  {
   "cell_type": "code",
   "execution_count": null,
   "id": "0307198f",
   "metadata": {},
   "outputs": [],
   "source": [
    "a + z"
   ]
  },
  {
   "cell_type": "markdown",
   "id": "7e89c841",
   "metadata": {},
   "source": [
    "#### 에러 (Error)\n",
    "- 프로그램 실행중 어떤원인에 의해 오작동하거나 비정상 종료되는 것\n",
    "- 버그 (bug) 라고도 하며, 에러를 해결하는 과정을 \"디버깅\" 이라고 함\n",
    "- 간단한 에러는 구글링으로 원인과 뜻을 알 수 있음\n",
    "- 개발자의 숙명"
   ]
  },
  {
   "cell_type": "code",
   "execution_count": null,
   "id": "da1568b7",
   "metadata": {},
   "outputs": [],
   "source": [
    "\"\"\"This is for\n",
    "multi\n",
    "lines\n",
    "!\n",
    "\"\"\""
   ]
  },
  {
   "cell_type": "code",
   "execution_count": null,
   "id": "a87d3e3d",
   "metadata": {},
   "outputs": [],
   "source": [
    "x = ''' This is for\n",
    "multi\n",
    "lines\n",
    "!\n",
    "'''"
   ]
  },
  {
   "cell_type": "code",
   "execution_count": null,
   "id": "571470c1",
   "metadata": {
    "scrolled": true
   },
   "outputs": [],
   "source": [
    "print(x)"
   ]
  },
  {
   "cell_type": "code",
   "execution_count": null,
   "id": "5383aac1",
   "metadata": {},
   "outputs": [],
   "source": [
    "\" this is \n",
    "multiline\""
   ]
  },
  {
   "cell_type": "code",
   "execution_count": null,
   "id": "64c51e51",
   "metadata": {},
   "outputs": [],
   "source": [
    "print(\"Hello\")"
   ]
  },
  {
   "cell_type": "code",
   "execution_count": null,
   "id": "33a54fff",
   "metadata": {},
   "outputs": [],
   "source": [
    "print(1+2+3)"
   ]
  },
  {
   "cell_type": "code",
   "execution_count": null,
   "id": "fc082c95",
   "metadata": {},
   "outputs": [],
   "source": [
    "multi = \"\"\"Haeun\n",
    "Jeongb\n",
    "Yesun\n",
    "Daeun\n",
    "\"\"\"\n",
    "print(multi)"
   ]
  },
  {
   "cell_type": "markdown",
   "id": "2200e1a6",
   "metadata": {},
   "source": [
    "#### print 문\n",
    "- prints the specified message to the screen\n",
    "- 괄호 내부의 값을 화면에 출력하라는 명령문\n",
    "\n",
    "# 2교시 (11:25~12:00)\n",
    "\n",
    "#### 문자열 연산하기"
   ]
  },
  {
   "cell_type": "code",
   "execution_count": null,
   "id": "c41d5622",
   "metadata": {},
   "outputs": [],
   "source": [
    "x = \"python\"\n",
    "y = \" is good\""
   ]
  },
  {
   "cell_type": "code",
   "execution_count": null,
   "id": "4f78c3a9",
   "metadata": {},
   "outputs": [],
   "source": [
    "x + y"
   ]
  },
  {
   "cell_type": "code",
   "execution_count": null,
   "id": "c4383ec3",
   "metadata": {},
   "outputs": [],
   "source": [
    "x + \" \" + y"
   ]
  },
  {
   "cell_type": "code",
   "execution_count": null,
   "id": "1d1e4e3d",
   "metadata": {},
   "outputs": [],
   "source": [
    "x * 9"
   ]
  },
  {
   "cell_type": "code",
   "execution_count": null,
   "id": "572c7b55",
   "metadata": {},
   "outputs": [],
   "source": [
    "print(\"***********\")"
   ]
  },
  {
   "cell_type": "markdown",
   "id": "026578fa",
   "metadata": {},
   "source": [
    "##### Quiz 2.\n",
    "print 문과 문자열(string)을 활용해서 아래와 같은 모양을 찍어보세요.\n",
    "*\n",
    "***\n",
    "*****"
   ]
  },
  {
   "cell_type": "markdown",
   "id": "e74701f0",
   "metadata": {},
   "source": [
    "# "
   ]
  },
  {
   "cell_type": "markdown",
   "id": "b6c5b503",
   "metadata": {},
   "source": [
    "# "
   ]
  },
  {
   "cell_type": "markdown",
   "id": "0f514d89",
   "metadata": {},
   "source": [
    "# "
   ]
  },
  {
   "cell_type": "markdown",
   "id": "824fdeb4",
   "metadata": {},
   "source": [
    "# "
   ]
  },
  {
   "cell_type": "markdown",
   "id": "189716e4",
   "metadata": {},
   "source": [
    "# "
   ]
  },
  {
   "cell_type": "markdown",
   "id": "4c7ff976",
   "metadata": {},
   "source": [
    "#### Quiz 2 Answer"
   ]
  },
  {
   "cell_type": "code",
   "execution_count": null,
   "id": "3f0cc504",
   "metadata": {},
   "outputs": [],
   "source": [
    "print('*')\n",
    "print('***')\n",
    "print('*****')\n",
    "\n",
    "print('''\n",
    "*\n",
    "***\n",
    "*****\n",
    "''')"
   ]
  },
  {
   "cell_type": "markdown",
   "id": "4e62ccc7",
   "metadata": {},
   "source": [
    "# "
   ]
  },
  {
   "cell_type": "markdown",
   "id": "b8395a4c",
   "metadata": {},
   "source": [
    "#### index \n",
    "- 색인\n",
    "- 위치를 빠르게 찾도록 도와주는 것\n",
    "- 대괄호를 사용해 접근 가능\n",
    "- 프로그래밍에서 모든 것은 0부터 시작함\n",
    "- p (0) y (1) t (2) h (3) o (4) n (5)"
   ]
  },
  {
   "cell_type": "code",
   "execution_count": null,
   "id": "14f67a1c",
   "metadata": {},
   "outputs": [],
   "source": [
    "\"python\""
   ]
  },
  {
   "cell_type": "code",
   "execution_count": null,
   "id": "40ca19c2",
   "metadata": {},
   "outputs": [],
   "source": [
    "x"
   ]
  },
  {
   "cell_type": "code",
   "execution_count": null,
   "id": "0f8a29e1",
   "metadata": {},
   "outputs": [],
   "source": [
    "x[0]"
   ]
  },
  {
   "cell_type": "code",
   "execution_count": null,
   "id": "21dab8d6",
   "metadata": {},
   "outputs": [],
   "source": [
    "x[4]"
   ]
  },
  {
   "cell_type": "code",
   "execution_count": null,
   "id": "14d9fcbc",
   "metadata": {},
   "outputs": [],
   "source": [
    "x[6]"
   ]
  },
  {
   "cell_type": "code",
   "execution_count": null,
   "id": "0ce0c347",
   "metadata": {},
   "outputs": [],
   "source": [
    "x"
   ]
  },
  {
   "cell_type": "code",
   "execution_count": null,
   "id": "6768b724",
   "metadata": {},
   "outputs": [],
   "source": [
    "x[-1]"
   ]
  },
  {
   "cell_type": "code",
   "execution_count": null,
   "id": "80397a84",
   "metadata": {},
   "outputs": [],
   "source": [
    "x[-6]"
   ]
  },
  {
   "cell_type": "code",
   "execution_count": null,
   "id": "ae7c382c",
   "metadata": {},
   "outputs": [],
   "source": [
    "x[-7]"
   ]
  },
  {
   "cell_type": "code",
   "execution_count": null,
   "id": "d818fdaf",
   "metadata": {},
   "outputs": [],
   "source": [
    "x[0] + x[2]"
   ]
  },
  {
   "cell_type": "code",
   "execution_count": null,
   "id": "d17bb030",
   "metadata": {},
   "outputs": [],
   "source": [
    "hell = x[0] + x[2]\n",
    "hell"
   ]
  },
  {
   "cell_type": "code",
   "execution_count": null,
   "id": "12f0fe7e",
   "metadata": {},
   "outputs": [],
   "source": [
    "x[0:3]"
   ]
  },
  {
   "cell_type": "code",
   "execution_count": null,
   "id": "296e2e2f",
   "metadata": {},
   "outputs": [],
   "source": [
    "x"
   ]
  },
  {
   "cell_type": "code",
   "execution_count": null,
   "id": "d22dcaa0",
   "metadata": {},
   "outputs": [],
   "source": [
    "x[2:-2]"
   ]
  },
  {
   "cell_type": "code",
   "execution_count": null,
   "id": "896e7532",
   "metadata": {},
   "outputs": [],
   "source": [
    "x[4:]"
   ]
  },
  {
   "cell_type": "code",
   "execution_count": null,
   "id": "75da9a4b",
   "metadata": {},
   "outputs": [],
   "source": [
    "x[:4]"
   ]
  },
  {
   "cell_type": "markdown",
   "id": "9662effd",
   "metadata": {},
   "source": [
    "##### Quiz 3. \n",
    "아래 문자열에서 생년월일과 이름만 추출해 보세요. \n",
    "- \"960705강하은태어난날\""
   ]
  },
  {
   "cell_type": "markdown",
   "id": "cbb7a6e5",
   "metadata": {},
   "source": [
    "##### Quiz 4.\n",
    "\"Pithon\" 이라는 문자열을, \"Python\" 으로 만들어 보세요."
   ]
  },
  {
   "cell_type": "markdown",
   "id": "9e6ece83",
   "metadata": {},
   "source": [
    "# "
   ]
  },
  {
   "cell_type": "markdown",
   "id": "c670a66e",
   "metadata": {},
   "source": [
    "# "
   ]
  },
  {
   "cell_type": "markdown",
   "id": "460defff",
   "metadata": {},
   "source": [
    "# "
   ]
  },
  {
   "cell_type": "markdown",
   "id": "96f3513d",
   "metadata": {},
   "source": [
    "# "
   ]
  },
  {
   "cell_type": "markdown",
   "id": "1652810a",
   "metadata": {},
   "source": [
    "# "
   ]
  },
  {
   "cell_type": "markdown",
   "id": "95ced79e",
   "metadata": {},
   "source": [
    "# "
   ]
  },
  {
   "cell_type": "markdown",
   "id": "f905e003",
   "metadata": {},
   "source": [
    "# "
   ]
  },
  {
   "cell_type": "code",
   "execution_count": null,
   "id": "b62bb485",
   "metadata": {},
   "outputs": [],
   "source": [
    "string = \"960705강하은태어난날\""
   ]
  },
  {
   "cell_type": "code",
   "execution_count": null,
   "id": "1c9b0ff3",
   "metadata": {},
   "outputs": [],
   "source": [
    "birthday = string[:6]\n",
    "birthday"
   ]
  },
  {
   "cell_type": "code",
   "execution_count": null,
   "id": "1efeaa0e",
   "metadata": {
    "scrolled": true
   },
   "outputs": [],
   "source": [
    "name = string[6:9]\n",
    "name"
   ]
  },
  {
   "cell_type": "code",
   "execution_count": 3,
   "id": "5a913158",
   "metadata": {},
   "outputs": [],
   "source": [
    "string = \"Pithon\""
   ]
  },
  {
   "cell_type": "code",
   "execution_count": null,
   "id": "1508cace",
   "metadata": {},
   "outputs": [],
   "source": [
    "string[:1] + \"y\" + string[2:]"
   ]
  },
  {
   "cell_type": "markdown",
   "id": "7f7d9083",
   "metadata": {},
   "source": [
    "# "
   ]
  }
 ],
 "metadata": {
  "kernelspec": {
   "display_name": "Python 3 (ipykernel)",
   "language": "python",
   "name": "python3"
  },
  "language_info": {
   "codemirror_mode": {
    "name": "ipython",
    "version": 3
   },
   "file_extension": ".py",
   "mimetype": "text/x-python",
   "name": "python",
   "nbconvert_exporter": "python",
   "pygments_lexer": "ipython3",
   "version": "3.9.12"
  }
 },
 "nbformat": 4,
 "nbformat_minor": 5
}
