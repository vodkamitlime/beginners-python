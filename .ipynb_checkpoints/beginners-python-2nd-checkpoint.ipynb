{
 "cells": [
  {
   "cell_type": "markdown",
   "id": "89442d51",
   "metadata": {},
   "source": [
    "# 0교시 (09:30~10:10) \n",
    "\n",
    "### Recap\n",
    "- 변수\n",
    "- 자료형 \n",
    "- 숫자 (Number)\n",
    "    - +, -, /, *, //, %\n",
    "- 문자열 (String) \n",
    "    - singleline(\", '), multiline(\"\"\", ''')\n",
    "    - index\n",
    "\n",
    "\n",
    "    \n",
    "### Github\n",
    "- 다들 가입하셨나요?\n",
    "- beginners-python repository 공개\n",
    "- Q&A\n",
    "    "
   ]
  },
  {
   "cell_type": "markdown",
   "id": "b66bcc7c",
   "metadata": {},
   "source": [
    "# "
   ]
  },
  {
   "cell_type": "markdown",
   "id": "47c77528",
   "metadata": {},
   "source": [
    "# "
   ]
  },
  {
   "cell_type": "markdown",
   "id": "ecbd4d97",
   "metadata": {},
   "source": [
    "# "
   ]
  },
  {
   "cell_type": "markdown",
   "id": "813ce557",
   "metadata": {},
   "source": [
    "# 1교시 (10:20~11:00)"
   ]
  },
  {
   "cell_type": "markdown",
   "id": "1358c02c",
   "metadata": {},
   "source": [
    "### 자료형\n",
    "- 모든 언어의 기본\n",
    "- data type, 데이터를 메모리에 저장하는 방식 \n",
    "- 문자열 (string), 숫자 (number, integer), 배열 (array, list), 객체 (object, dictionary), 참거짓 (boolean), etc.... \n",
    "\n",
    "### 변수   \n",
    "- variable\n",
    "- 데이터를 담는 \"그릇\"\n",
    "- \"선언\" (define) 과 \"할당\" (assign) 을 분리 \n",
    "- 변수의 이름은 \"변수명\" "
   ]
  },
  {
   "cell_type": "code",
   "execution_count": null,
   "id": "c2fca223",
   "metadata": {},
   "outputs": [],
   "source": [
    "a = 0\n",
    "b = 1\n",
    "test = 8"
   ]
  },
  {
   "cell_type": "code",
   "execution_count": null,
   "id": "13af8354",
   "metadata": {},
   "outputs": [],
   "source": [
    "a"
   ]
  },
  {
   "cell_type": "code",
   "execution_count": null,
   "id": "7fc60fdd",
   "metadata": {},
   "outputs": [],
   "source": [
    "b"
   ]
  },
  {
   "cell_type": "code",
   "execution_count": null,
   "id": "92a6b41d",
   "metadata": {},
   "outputs": [],
   "source": [
    "test"
   ]
  },
  {
   "cell_type": "code",
   "execution_count": null,
   "id": "544a4dfe",
   "metadata": {},
   "outputs": [],
   "source": [
    "test = 5\n",
    "test"
   ]
  },
  {
   "cell_type": "code",
   "execution_count": null,
   "id": "59baa335",
   "metadata": {},
   "outputs": [],
   "source": [
    "test = b\n",
    "test"
   ]
  },
  {
   "cell_type": "markdown",
   "id": "32bfe975",
   "metadata": {},
   "source": [
    "#### 숫자형 (Number)\n",
    "- 정수, 실수, 8진수, 16진수 등 \n",
    "- 연산자 "
   ]
  },
  {
   "cell_type": "code",
   "execution_count": null,
   "id": "a5745aaa",
   "metadata": {},
   "outputs": [],
   "source": [
    "a = 4\n",
    "b = 2"
   ]
  },
  {
   "cell_type": "code",
   "execution_count": null,
   "id": "ab80563c",
   "metadata": {},
   "outputs": [],
   "source": [
    "a + b"
   ]
  },
  {
   "cell_type": "code",
   "execution_count": null,
   "id": "f57b68f4",
   "metadata": {},
   "outputs": [],
   "source": [
    "1 + 3 + 4"
   ]
  },
  {
   "cell_type": "code",
   "execution_count": null,
   "id": "614f1efc",
   "metadata": {},
   "outputs": [],
   "source": [
    "a + b + 6 + 10"
   ]
  },
  {
   "cell_type": "code",
   "execution_count": null,
   "id": "db2687c5",
   "metadata": {},
   "outputs": [],
   "source": [
    "a - b"
   ]
  },
  {
   "cell_type": "code",
   "execution_count": null,
   "id": "ae88e84e",
   "metadata": {},
   "outputs": [],
   "source": [
    "a / b"
   ]
  },
  {
   "cell_type": "code",
   "execution_count": null,
   "id": "01852ee1",
   "metadata": {},
   "outputs": [],
   "source": [
    "a * b"
   ]
  },
  {
   "cell_type": "code",
   "execution_count": null,
   "id": "ff4b58d7",
   "metadata": {},
   "outputs": [],
   "source": [
    "a = 2\n",
    "b = 3\n",
    "a ** b"
   ]
  },
  {
   "cell_type": "code",
   "execution_count": null,
   "id": "ff74efff",
   "metadata": {},
   "outputs": [],
   "source": [
    "a = 5\n",
    "b = 2\n",
    "a % b"
   ]
  },
  {
   "cell_type": "code",
   "execution_count": null,
   "id": "c2405627",
   "metadata": {},
   "outputs": [],
   "source": [
    "a / b"
   ]
  },
  {
   "cell_type": "code",
   "execution_count": null,
   "id": "62112dcf",
   "metadata": {},
   "outputs": [],
   "source": [
    "a // b"
   ]
  },
  {
   "cell_type": "markdown",
   "id": "eb7d3848",
   "metadata": {},
   "source": [
    "##### Quiz 1. \n",
    "숫자 n 을 받았을 때, 어떻게 하면 이 숫자가 홀수인지 짝수인지 판단할 수 있을까요? "
   ]
  },
  {
   "cell_type": "markdown",
   "id": "a0dbc723",
   "metadata": {},
   "source": [
    "# "
   ]
  },
  {
   "cell_type": "markdown",
   "id": "afaf5ae5",
   "metadata": {},
   "source": [
    "# "
   ]
  },
  {
   "cell_type": "markdown",
   "id": "93abaca0",
   "metadata": {},
   "source": [
    "# "
   ]
  },
  {
   "cell_type": "markdown",
   "id": "cb05cbcf",
   "metadata": {},
   "source": [
    "# "
   ]
  },
  {
   "cell_type": "markdown",
   "id": "7a488fbf",
   "metadata": {},
   "source": [
    "#### Quiz 1 Answer\n",
    "- % 사용해서 판별"
   ]
  },
  {
   "cell_type": "code",
   "execution_count": null,
   "id": "8d8b0f0a",
   "metadata": {},
   "outputs": [],
   "source": [
    "n = -3\n",
    "n % 2"
   ]
  },
  {
   "cell_type": "markdown",
   "id": "29dab2bf",
   "metadata": {},
   "source": [
    "# "
   ]
  },
  {
   "cell_type": "markdown",
   "id": "4034e773",
   "metadata": {},
   "source": [
    "#### 문자열 (string)\n",
    "- \"\" 또는 '' 사용\n",
    "- 숫자여도, 따옴표 사이에 있으면 문자열 타입임"
   ]
  },
  {
   "cell_type": "code",
   "execution_count": null,
   "id": "0617731b",
   "metadata": {},
   "outputs": [],
   "source": [
    "\"Life is too short, You need Python\"\n",
    "\n",
    "'a'"
   ]
  },
  {
   "cell_type": "code",
   "execution_count": null,
   "id": "231992fe",
   "metadata": {},
   "outputs": [],
   "source": [
    "'Haeuns's quote: Life is too short, You need Python'"
   ]
  },
  {
   "cell_type": "code",
   "execution_count": null,
   "id": "613cc3c5",
   "metadata": {},
   "outputs": [],
   "source": [
    "\"Haeuns's quote: Life is too short, You need Python\""
   ]
  },
  {
   "cell_type": "code",
   "execution_count": null,
   "id": "d1dfa459",
   "metadata": {},
   "outputs": [],
   "source": [
    "'Haeun said, \"Life is too short, You need Python\"'"
   ]
  },
  {
   "cell_type": "code",
   "execution_count": null,
   "id": "54fbcb42",
   "metadata": {},
   "outputs": [],
   "source": [
    "z = \"string\""
   ]
  },
  {
   "cell_type": "code",
   "execution_count": null,
   "id": "556b3742",
   "metadata": {},
   "outputs": [],
   "source": [
    "x = \"New \""
   ]
  },
  {
   "cell_type": "code",
   "execution_count": null,
   "id": "ad462a55",
   "metadata": {},
   "outputs": [],
   "source": [
    "x + z"
   ]
  },
  {
   "cell_type": "code",
   "execution_count": null,
   "id": "0f3cd240",
   "metadata": {},
   "outputs": [],
   "source": [
    "a = 5"
   ]
  },
  {
   "cell_type": "code",
   "execution_count": null,
   "id": "ee2ad942",
   "metadata": {},
   "outputs": [],
   "source": [
    "\n",
    "a + z"
   ]
  },
  {
   "cell_type": "markdown",
   "id": "e29ad89b",
   "metadata": {},
   "source": [
    "#### 에러 (Error)\n",
    "- 프로그램 실행중 어떤원인에 의해 오작동하거나 비정상 종료되는 것\n",
    "- 버그 (bug) 라고도 하며, 에러를 해결하는 과정을 \"디버깅\" 이라고 함\n",
    "- 간단한 에러는 구글링으로 원인과 뜻을 알 수 있음\n",
    "- 개발자의 숙명"
   ]
  },
  {
   "cell_type": "code",
   "execution_count": null,
   "id": "eb892d33",
   "metadata": {},
   "outputs": [],
   "source": [
    "\"\"\"This is for\n",
    "multi\n",
    "lines\n",
    "!\n",
    "\"\"\""
   ]
  },
  {
   "cell_type": "code",
   "execution_count": null,
   "id": "430de1c9",
   "metadata": {},
   "outputs": [],
   "source": [
    "x = ''' This is for\n",
    "multi\n",
    "lines\n",
    "!\n",
    "'''"
   ]
  },
  {
   "cell_type": "code",
   "execution_count": null,
   "id": "a9ca604b",
   "metadata": {
    "scrolled": true
   },
   "outputs": [],
   "source": [
    "print(x)"
   ]
  },
  {
   "cell_type": "code",
   "execution_count": null,
   "id": "153defe1",
   "metadata": {},
   "outputs": [],
   "source": [
    "\" this is \n",
    "multiline\""
   ]
  },
  {
   "cell_type": "code",
   "execution_count": null,
   "id": "8245bc8d",
   "metadata": {},
   "outputs": [],
   "source": [
    "print(\"Hello\")"
   ]
  },
  {
   "cell_type": "code",
   "execution_count": null,
   "id": "d94e387b",
   "metadata": {},
   "outputs": [],
   "source": [
    "print(1+2+3)"
   ]
  },
  {
   "cell_type": "code",
   "execution_count": null,
   "id": "02840f9e",
   "metadata": {},
   "outputs": [],
   "source": [
    "multi = \"\"\"Haeun\n",
    "Jeong\n",
    "Yesun\n",
    "Daeun\n",
    "\"\"\"\n",
    "print(multi)"
   ]
  },
  {
   "cell_type": "markdown",
   "id": "4bc9c532",
   "metadata": {},
   "source": [
    "#### print 문\n",
    "- prints the specified message to the screen\n",
    "- 괄호 내부의 값을 화면에 출력하라는 명령문\n",
    "\n",
    "# 3교시 (11:25~12:00)\n",
    "\n",
    "#### 문자열 연산하기"
   ]
  },
  {
   "cell_type": "code",
   "execution_count": null,
   "id": "bd571961",
   "metadata": {},
   "outputs": [],
   "source": [
    "x = \"python\"\n",
    "y = \" is good\""
   ]
  },
  {
   "cell_type": "code",
   "execution_count": null,
   "id": "7844981f",
   "metadata": {},
   "outputs": [],
   "source": [
    "x + y"
   ]
  },
  {
   "cell_type": "code",
   "execution_count": null,
   "id": "6c355c5b",
   "metadata": {},
   "outputs": [],
   "source": [
    "x + \" \" + y"
   ]
  },
  {
   "cell_type": "code",
   "execution_count": null,
   "id": "cbbbfbb2",
   "metadata": {},
   "outputs": [],
   "source": [
    "x * 9"
   ]
  },
  {
   "cell_type": "code",
   "execution_count": null,
   "id": "ab031231",
   "metadata": {},
   "outputs": [],
   "source": [
    "print(\"***********\")"
   ]
  },
  {
   "cell_type": "markdown",
   "id": "ee51576c",
   "metadata": {},
   "source": [
    "##### Quiz 2.\n",
    "print 문과 문자열(string)을 활용해서 아래와 같은 모양을 찍어보세요.\n",
    "*\n",
    "***\n",
    "*****"
   ]
  },
  {
   "cell_type": "markdown",
   "id": "ac464390",
   "metadata": {},
   "source": [
    "# "
   ]
  },
  {
   "cell_type": "markdown",
   "id": "56412131",
   "metadata": {},
   "source": [
    "# "
   ]
  },
  {
   "cell_type": "markdown",
   "id": "4db722d4",
   "metadata": {},
   "source": [
    "# "
   ]
  },
  {
   "cell_type": "markdown",
   "id": "5821c327",
   "metadata": {},
   "source": [
    "# "
   ]
  },
  {
   "cell_type": "markdown",
   "id": "297b954a",
   "metadata": {},
   "source": [
    "# "
   ]
  },
  {
   "cell_type": "markdown",
   "id": "1fe284df",
   "metadata": {},
   "source": [
    "#### Quiz 2 Answer"
   ]
  },
  {
   "cell_type": "code",
   "execution_count": null,
   "id": "86eb1bb0",
   "metadata": {},
   "outputs": [],
   "source": [
    "print('*')\n",
    "print('***')\n",
    "print('*****')\n",
    "\n",
    "print('''\n",
    "*\n",
    "***\n",
    "*****\n",
    "''')"
   ]
  },
  {
   "cell_type": "markdown",
   "id": "4a93c5d9",
   "metadata": {},
   "source": [
    "# "
   ]
  },
  {
   "cell_type": "markdown",
   "id": "c62bb153",
   "metadata": {},
   "source": [
    "#### index \n",
    "- 색인\n",
    "- 위치를 빠르게 찾도록 도와주는 것\n",
    "- 대괄호를 사용해 접근 가능\n",
    "- 프로그래밍에서 모든 것은 0부터 시작함\n",
    "- p (0) y (1) t (2) h (3) o (4) n (5)"
   ]
  },
  {
   "cell_type": "code",
   "execution_count": null,
   "id": "7ec6b51c",
   "metadata": {},
   "outputs": [],
   "source": [
    "\"python\""
   ]
  },
  {
   "cell_type": "code",
   "execution_count": null,
   "id": "b27d6843",
   "metadata": {},
   "outputs": [],
   "source": [
    "x"
   ]
  },
  {
   "cell_type": "code",
   "execution_count": null,
   "id": "dceb8c23",
   "metadata": {},
   "outputs": [],
   "source": [
    "x[0]"
   ]
  },
  {
   "cell_type": "code",
   "execution_count": null,
   "id": "254bd83b",
   "metadata": {},
   "outputs": [],
   "source": [
    "x[4]"
   ]
  },
  {
   "cell_type": "code",
   "execution_count": null,
   "id": "1109cab0",
   "metadata": {},
   "outputs": [],
   "source": [
    "x[6]"
   ]
  },
  {
   "cell_type": "code",
   "execution_count": null,
   "id": "f2382a22",
   "metadata": {},
   "outputs": [],
   "source": [
    "x"
   ]
  },
  {
   "cell_type": "code",
   "execution_count": null,
   "id": "f8cad181",
   "metadata": {},
   "outputs": [],
   "source": [
    "x[-1]"
   ]
  },
  {
   "cell_type": "code",
   "execution_count": null,
   "id": "6ca32efe",
   "metadata": {},
   "outputs": [],
   "source": [
    "x[-6]"
   ]
  },
  {
   "cell_type": "code",
   "execution_count": null,
   "id": "98e8816d",
   "metadata": {},
   "outputs": [],
   "source": [
    "x[-7]"
   ]
  },
  {
   "cell_type": "code",
   "execution_count": null,
   "id": "4b9f9547",
   "metadata": {},
   "outputs": [],
   "source": [
    "x[0] + x[2]"
   ]
  },
  {
   "cell_type": "code",
   "execution_count": null,
   "id": "bf6e03d0",
   "metadata": {},
   "outputs": [],
   "source": [
    "hell = x[0] + x[2]\n",
    "hell"
   ]
  },
  {
   "cell_type": "code",
   "execution_count": null,
   "id": "f0d8940b",
   "metadata": {},
   "outputs": [],
   "source": [
    "x[0:3]"
   ]
  },
  {
   "cell_type": "code",
   "execution_count": null,
   "id": "d06fe4ae",
   "metadata": {},
   "outputs": [],
   "source": [
    "x"
   ]
  },
  {
   "cell_type": "code",
   "execution_count": null,
   "id": "b37b68ea",
   "metadata": {},
   "outputs": [],
   "source": [
    "x[2:-2]"
   ]
  },
  {
   "cell_type": "code",
   "execution_count": null,
   "id": "a273653b",
   "metadata": {},
   "outputs": [],
   "source": [
    "x[4:]"
   ]
  },
  {
   "cell_type": "code",
   "execution_count": null,
   "id": "cad794c2",
   "metadata": {},
   "outputs": [],
   "source": [
    "x[:4]"
   ]
  },
  {
   "cell_type": "markdown",
   "id": "577ce16c",
   "metadata": {},
   "source": [
    "##### Quiz 3. \n",
    "아래 문자열에서 생년월일과 이름만 추출해 보세요. \n",
    "- \"960705강하은태어난날\""
   ]
  },
  {
   "cell_type": "markdown",
   "id": "cd9d9084",
   "metadata": {},
   "source": [
    "##### Quiz 4.\n",
    "\"Pithon\" 이라는 문자열을, \"Python\" 으로 만들어 보세요."
   ]
  },
  {
   "cell_type": "markdown",
   "id": "96edb705",
   "metadata": {},
   "source": [
    "# "
   ]
  },
  {
   "cell_type": "markdown",
   "id": "6aa2839d",
   "metadata": {},
   "source": [
    "# "
   ]
  },
  {
   "cell_type": "markdown",
   "id": "0eaf43a6",
   "metadata": {},
   "source": [
    "# "
   ]
  },
  {
   "cell_type": "markdown",
   "id": "3313f567",
   "metadata": {},
   "source": [
    "# "
   ]
  },
  {
   "cell_type": "markdown",
   "id": "0b178fbf",
   "metadata": {},
   "source": [
    "# "
   ]
  },
  {
   "cell_type": "markdown",
   "id": "b3964bb3",
   "metadata": {},
   "source": [
    "# "
   ]
  },
  {
   "cell_type": "markdown",
   "id": "79770188",
   "metadata": {},
   "source": [
    "# "
   ]
  },
  {
   "cell_type": "code",
   "execution_count": null,
   "id": "138dea94",
   "metadata": {},
   "outputs": [],
   "source": [
    "string = \"960705강하은태어난날\""
   ]
  },
  {
   "cell_type": "code",
   "execution_count": null,
   "id": "f8a03e26",
   "metadata": {},
   "outputs": [],
   "source": [
    "birthday = string[:6]\n",
    "birthday"
   ]
  },
  {
   "cell_type": "code",
   "execution_count": null,
   "id": "69fc8ae8",
   "metadata": {
    "scrolled": true
   },
   "outputs": [],
   "source": [
    "name = string[6:9]\n",
    "name"
   ]
  },
  {
   "cell_type": "code",
   "execution_count": null,
   "id": "211c002f",
   "metadata": {},
   "outputs": [],
   "source": [
    "string = \"Pithon\""
   ]
  },
  {
   "cell_type": "code",
   "execution_count": null,
   "id": "50de290d",
   "metadata": {},
   "outputs": [],
   "source": [
    "string[:1] + \"y\" + string[2:]"
   ]
  },
  {
   "cell_type": "markdown",
   "id": "26f895b5",
   "metadata": {},
   "source": [
    "# "
   ]
  },
  {
   "cell_type": "markdown",
   "id": "397ea6c0",
   "metadata": {},
   "source": [
    "#### 문자열 포맷팅\n",
    "- 문자열 안에 있는 값을 바로 대체해버리기"
   ]
  },
  {
   "cell_type": "markdown",
   "id": "f4a7737f",
   "metadata": {},
   "source": [
    "##### 방법 1: %s 쓰기"
   ]
  },
  {
   "cell_type": "code",
   "execution_count": null,
   "id": "be7c65b4",
   "metadata": {},
   "outputs": [],
   "source": [
    "\"I eat %s apples.\" % 3"
   ]
  },
  {
   "cell_type": "code",
   "execution_count": null,
   "id": "0b9cd4cc",
   "metadata": {},
   "outputs": [],
   "source": [
    "\"I eat %s apples.\" % \"five\""
   ]
  },
  {
   "cell_type": "code",
   "execution_count": null,
   "id": "3c6ee632",
   "metadata": {},
   "outputs": [],
   "source": [
    "\"I ate %s apples. so I was sick for %s days.\" % (3, \"five\")"
   ]
  },
  {
   "cell_type": "code",
   "execution_count": null,
   "id": "13b5ba6b",
   "metadata": {},
   "outputs": [],
   "source": [
    "count = 10\n",
    "days = \"eight\"\n",
    "\"I ate %s apples. so I was sick for %s days.\" % (count, days)"
   ]
  },
  {
   "cell_type": "markdown",
   "id": "577b9105",
   "metadata": {},
   "source": [
    "##### 방법 2: .format() 쓰기"
   ]
  },
  {
   "cell_type": "code",
   "execution_count": null,
   "id": "1017e5f0",
   "metadata": {},
   "outputs": [],
   "source": [
    "\"I eat {0} apples\".format(3)"
   ]
  },
  {
   "cell_type": "code",
   "execution_count": null,
   "id": "e299685b",
   "metadata": {},
   "outputs": [],
   "source": [
    "\"I eat {0} apples and {1} mangoes\".format(3, \"two\")"
   ]
  },
  {
   "cell_type": "code",
   "execution_count": null,
   "id": "8fc0b6e3",
   "metadata": {},
   "outputs": [],
   "source": [
    "\"I eat {0} apples, {1} potatoes and {0} mangoes\".format(3, 10)"
   ]
  },
  {
   "cell_type": "code",
   "execution_count": null,
   "id": "afbb80c8",
   "metadata": {},
   "outputs": [],
   "source": [
    "number = 10\n",
    "day = \"three\"\n",
    "\"I ate {0} apples. so I was sick for {1} days.\".format(number, day)"
   ]
  },
  {
   "cell_type": "code",
   "execution_count": null,
   "id": "77a4abc4",
   "metadata": {},
   "outputs": [],
   "source": [
    "\"I ate {number} apples. so I was sick for {day} days.\".format(number=10, day=3)"
   ]
  },
  {
   "cell_type": "markdown",
   "id": "fde235ad",
   "metadata": {},
   "source": [
    "##### 방법 3: f string 쓰기"
   ]
  },
  {
   "cell_type": "code",
   "execution_count": null,
   "id": "21e9d3ad",
   "metadata": {},
   "outputs": [],
   "source": [
    "name = 'Haeun'\n",
    "age = 100\n",
    "f'나의 이름은 {name}입니다. 나이는 {age}입니다.'"
   ]
  },
  {
   "cell_type": "markdown",
   "id": "6cce49df",
   "metadata": {},
   "source": [
    "#### 문자열 함수\n",
    "- 함수: 특정한 행동을 실행하는 명령문 ex) print"
   ]
  },
  {
   "cell_type": "code",
   "execution_count": null,
   "id": "d439dc74",
   "metadata": {},
   "outputs": [],
   "source": [
    "\"Teddy Bear\".count('d')"
   ]
  },
  {
   "cell_type": "code",
   "execution_count": null,
   "id": "77d00b5e",
   "metadata": {},
   "outputs": [],
   "source": [
    "\"Python is the best choice\".find('b')"
   ]
  },
  {
   "cell_type": "code",
   "execution_count": null,
   "id": "95e607a2",
   "metadata": {},
   "outputs": [],
   "source": [
    "\"Python is the best choice\".find('z')"
   ]
  },
  {
   "cell_type": "code",
   "execution_count": null,
   "id": "4df1d953",
   "metadata": {},
   "outputs": [],
   "source": [
    "\"Python is the best choice\".index('b')"
   ]
  },
  {
   "cell_type": "code",
   "execution_count": null,
   "id": "ac4d9619",
   "metadata": {},
   "outputs": [],
   "source": [
    "\"Python is the best choice\".index('z')"
   ]
  },
  {
   "cell_type": "code",
   "execution_count": null,
   "id": "5ae63837",
   "metadata": {},
   "outputs": [],
   "source": [
    "\",\".join('abcd')"
   ]
  },
  {
   "cell_type": "code",
   "execution_count": null,
   "id": "34419999",
   "metadata": {},
   "outputs": [],
   "source": [
    "\"wine\".upper()"
   ]
  },
  {
   "cell_type": "code",
   "execution_count": null,
   "id": "70533bae",
   "metadata": {},
   "outputs": [],
   "source": [
    "\"BEER\".lower()"
   ]
  },
  {
   "cell_type": "code",
   "execution_count": null,
   "id": "2bbd8e99",
   "metadata": {},
   "outputs": [],
   "source": [
    "\"              spaces    \".strip()"
   ]
  },
  {
   "cell_type": "code",
   "execution_count": null,
   "id": "b4b6cbf2",
   "metadata": {},
   "outputs": [],
   "source": [
    "\"Life is too short\".replace(\"short\", \"long\")"
   ]
  },
  {
   "cell_type": "code",
   "execution_count": null,
   "id": "a1a051ea",
   "metadata": {},
   "outputs": [],
   "source": [
    "\"Life is too short\".split()"
   ]
  }
 ],
 "metadata": {
  "kernelspec": {
   "display_name": "Python 3 (ipykernel)",
   "language": "python",
   "name": "python3"
  },
  "language_info": {
   "codemirror_mode": {
    "name": "ipython",
    "version": 3
   },
   "file_extension": ".py",
   "mimetype": "text/x-python",
   "name": "python",
   "nbconvert_exporter": "python",
   "pygments_lexer": "ipython3",
   "version": "3.9.12"
  }
 },
 "nbformat": 4,
 "nbformat_minor": 5
}
