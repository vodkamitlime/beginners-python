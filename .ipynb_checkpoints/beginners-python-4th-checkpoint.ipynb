{
 "cells": [
  {
   "cell_type": "markdown",
   "id": "89442d51",
   "metadata": {},
   "source": [
    "# 0교시 (20:00~21:00) \n",
    "\n",
    "### Recap (5 min)\n",
    "- List 함수\n",
    "- Set\n",
    "- Boolean\n",
    "- If 문 (조건문)\n",
    "\n",
    "### Mini quiz & solutions (20 min) \n",
    "\n",
    "### If 문 마무리 (40 min)"
   ]
  },
  {
   "cell_type": "markdown",
   "id": "baac1eed",
   "metadata": {},
   "source": [
    "# "
   ]
  },
  {
   "cell_type": "markdown",
   "id": "1750754d",
   "metadata": {},
   "source": [
    "# "
   ]
  },
  {
   "cell_type": "markdown",
   "id": "efb746de",
   "metadata": {},
   "source": [
    "# "
   ]
  },
  {
   "cell_type": "markdown",
   "id": "7916cb0d",
   "metadata": {},
   "source": [
    "### 1, 2, 3 회차 복습 mini quiz \n",
    "\n",
    "- 함수를 곧바로 실행하지 마시고, 최대한 정답을 논리적으로 도출해본 뒤 실행하세요. "
   ]
  },
  {
   "cell_type": "code",
   "execution_count": null,
   "id": "b904093a",
   "metadata": {},
   "outputs": [],
   "source": [
    "## 다시 풀이 보고 설명! \n",
    "\n",
    "# Q1. 아래 print 문의 실행 결과는 무엇일까요?\n",
    "# A. Hae\n",
    "# B. gna\n",
    "# C. eaH\n",
    "# D. auKn\n",
    "    \n",
    "string = \"Haeun Kang\"\n",
    "print(string[2::-1])\n",
    "\n",
    "# 해설: indexing 할 때, [] 안의 의미는 다음과 같이 해석하시면 됩니다. [시작 인덱스 : 종료 인덱스 : (방향)(간격)]\n",
    "# ex) [2:5:2] 의 의미는, \"2번째 인덱스부터 5번째 인덱스까지, 정방향 & 2의 간격으로\"\n",
    "# 따라서 [2::-1] 의 의미는, \"2번째 인덱스부터 맨 끝까지, 역방향 & 1의 간격으로\""
   ]
  },
  {
   "cell_type": "code",
   "execution_count": null,
   "id": "efce9dbc",
   "metadata": {},
   "outputs": [],
   "source": [
    "# Q2. 아래 print 문의 실행 결과는 무엇일까요?\n",
    "# A. 10\n",
    "# B. 52\n",
    "# C. 3\n",
    "# D. 25\n",
    "\n",
    "value = 5 ** 2\n",
    "print(value)"
   ]
  },
  {
   "cell_type": "code",
   "execution_count": null,
   "id": "616e0699",
   "metadata": {},
   "outputs": [],
   "source": [
    "# Q3. 아래 print 문의 실행 결과는 무엇일까요?\n",
    "# A. 3\n",
    "# B. 2\n",
    "# C. 10\n",
    "# D. 2.4285714285714284\n",
    "\n",
    "value = 17 // 7\n",
    "print(value)"
   ]
  },
  {
   "cell_type": "code",
   "execution_count": null,
   "id": "cef72804",
   "metadata": {},
   "outputs": [],
   "source": [
    "# Q4. 아래 print 문의 실행 결과는 무엇일까요?\n",
    "# A. love love love love love love\n",
    "# B. lovelovelovelove\n",
    "# C. lovelovelovelovelovelove\n",
    "# D. Error\n",
    "\n",
    "var = \"love\" * 2  * 3\n",
    "print(var)"
   ]
  },
  {
   "cell_type": "code",
   "execution_count": null,
   "id": "d3b3378f",
   "metadata": {},
   "outputs": [],
   "source": [
    "# BONUS. 아래 print 문의 실행 결과는 무엇일까요?\n",
    "# A. True, True\n",
    "# B. True, False\n",
    "# C. False, False\n",
    "# D. False, True\n",
    "\n",
    "list_one = [ 1, 2, 3 ]\n",
    "list_two = [ 1, 2, 3 ]\n",
    "list_three = list_two \n",
    "\n",
    "print(list_one == list_two)\n",
    "print(list_two == list_three)"
   ]
  },
  {
   "cell_type": "code",
   "execution_count": null,
   "id": "6b83d5ed",
   "metadata": {
    "scrolled": true
   },
   "outputs": [],
   "source": [
    "# BONUS. 아래 코드를 실행하면 \"장년기\" 는 총 몇 회 출력될까요?\n",
    "\n",
    "age = 61\n",
    "\n",
    "if age > 60:\n",
    "    print(\"노년기\")\n",
    "elif age > 40:\n",
    "    print(\"장년기\")\n",
    "elif age > 20:\n",
    "    print(\"청년기\")\n",
    "else:\n",
    "    print(\"응애\")\n",
    "\n",
    "print(\"-----\")    \n",
    "\n",
    "if age > 60:\n",
    "    print(\"노년기\")\n",
    "if age > 40:\n",
    "    print(\"장년기\")\n",
    "if age > 20:\n",
    "    print(\"청년기\")\n",
    "else:\n",
    "    print(\"응애\")"
   ]
  },
  {
   "cell_type": "markdown",
   "id": "cdae0cb7",
   "metadata": {},
   "source": [
    "# "
   ]
  },
  {
   "cell_type": "markdown",
   "id": "2706bf3a",
   "metadata": {},
   "source": [
    "# "
   ]
  },
  {
   "cell_type": "markdown",
   "id": "a4c0a19f",
   "metadata": {},
   "source": [
    "# "
   ]
  },
  {
   "cell_type": "markdown",
   "id": "7e8d2fc0",
   "metadata": {},
   "source": [
    "# "
   ]
  },
  {
   "cell_type": "markdown",
   "id": "c42251b7",
   "metadata": {},
   "source": [
    "### If 문과 같이 사용하면 유용한 것들 \n",
    "- 연산자\n",
    "    - ==, !=, >, <, >=, <=\n",
    "    - and, or, not"
   ]
  },
  {
   "cell_type": "code",
   "execution_count": null,
   "id": "c734f930",
   "metadata": {},
   "outputs": [],
   "source": [
    "# 만약 하은이가 학생이라면, 수익이 없을 것이다. 만약 직장인이라면, 수익이 있을 것이다. 그렇지 않다면, 백수일 것이다. \n",
    "\n",
    "haeun = 'employed'\n",
    "\n",
    "if (haeun == 'student'): \n",
    "    print(\"$ 없음\")\n",
    "elif haeun == 'employed':\n",
    "    print(\"$ 있음\")\n",
    "else: \n",
    "    print(\"백수 ㅠㅠ\") "
   ]
  },
  {
   "cell_type": "code",
   "execution_count": null,
   "id": "bb6ecc03",
   "metadata": {},
   "outputs": [],
   "source": [
    "# 문맥의 어색함. 백수일 때도 수익은 없다. \n",
    "# 만약 하은이가 학생이거나 백수라면, 수익이 없을 것이다. 만약 직장인이라면, 수익이 있을 것이다. 셋 다 아니라면, 수익을 측정할 수 없다. \n",
    "# OR 연산\n",
    "\n",
    "haeun = '백수'\n",
    "\n",
    "if (haeun == '학생' or haeun =='백수'): \n",
    "    print(\"$ 없음\")\n",
    "elif haeun == '직장인':\n",
    "    print(\"$ 있음\")\n",
    "else: \n",
    "    print(\"$ 측정 불가\") "
   ]
  },
  {
   "cell_type": "code",
   "execution_count": null,
   "id": "886e250b",
   "metadata": {},
   "outputs": [],
   "source": [
    "# QUIZ. 아래 출력 결과는? 그 이유는? \n",
    "\n",
    "haeun = '직장인'\n",
    "\n",
    "if (haeun == '학생' or '백수'):  \n",
    "    print(\"$ 없음\") \n",
    "elif haeun == '직장인':\n",
    "    print(\"$ 있음\")\n",
    "else: \n",
    "    print(\"$ 측정 불가\") "
   ]
  },
  {
   "cell_type": "code",
   "execution_count": null,
   "id": "693bc52f",
   "metadata": {},
   "outputs": [],
   "source": [
    "# 하은이는 아메리카노라면 마실 것이다. 하지만 따뜻한 아메리카노는 마시지 않을 것이다. 그리고 그 외의 모든 커피는 마시지 않을 것이다. \n",
    "\n",
    "coffee = '라떼'\n",
    "ice = True\n",
    "\n",
    "if coffee == '아메리카노':\n",
    "    if ice == False:\n",
    "        print('안 마셔!')\n",
    "    else:\n",
    "        print('마셔!')\n",
    "else: \n",
    "    print('안 마셔!')"
   ]
  },
  {
   "cell_type": "code",
   "execution_count": null,
   "id": "3db411ef",
   "metadata": {},
   "outputs": [],
   "source": [
    "# AND 연산으로 수정해 봅시다.\n",
    "\n",
    "coffee = '아메리카노'\n",
    "ice = True\n",
    "\n",
    "if (coffee == '아메리카노' and ice == True): \n",
    "    print('마셔!')\n",
    "else: \n",
    "    print('안 마셔!')"
   ]
  },
  {
   "cell_type": "code",
   "execution_count": null,
   "id": "68d49dea",
   "metadata": {},
   "outputs": [],
   "source": [
    "# not 연산으로도 수정해 봅시다. 1\n",
    "\n",
    "coffee = '아이스 아메리카노'\n",
    "\n",
    "if not (coffee == '아이스 아메리카노'): # 조건이 참이 아니라면, \n",
    "    print('안 마셔!')\n",
    "else: \n",
    "    print('마셔!')"
   ]
  },
  {
   "cell_type": "code",
   "execution_count": null,
   "id": "24166394",
   "metadata": {},
   "outputs": [],
   "source": [
    "# not 연산으로도 수정해 봅시다. 2\n",
    "\n",
    "coffee = '아메리카노'\n",
    "ice = False\n",
    "\n",
    "if not (coffee == '아메리카노' and ice == True): \n",
    "    print('안 마셔!')\n",
    "else: \n",
    "    print('마셔!')"
   ]
  },
  {
   "cell_type": "markdown",
   "id": "926b18eb",
   "metadata": {},
   "source": [
    "##### Quiz 0. \n",
    "if 문과 and, or 을 자유롭게 조합하여 아래 문장들을 코드로 작성해 보세요.\n",
    "\n",
    "만약 아이유가 콘서트를 서울에서 열면, 티켓팅을 할 것이다. 그렇지 않다면, 티켓팅을 하지 않을 것이다. 공연일이 월/화/수요일이면 반차를 쓰고, 목/금요일이면 연차를 쓸 것이다. "
   ]
  },
  {
   "cell_type": "markdown",
   "id": "64eaa1c5",
   "metadata": {},
   "source": [
    "# "
   ]
  },
  {
   "cell_type": "markdown",
   "id": "92672995",
   "metadata": {},
   "source": [
    "# "
   ]
  },
  {
   "cell_type": "markdown",
   "id": "5ee6243d",
   "metadata": {},
   "source": [
    "# "
   ]
  },
  {
   "cell_type": "markdown",
   "id": "b87e23e2",
   "metadata": {},
   "source": [
    "# "
   ]
  },
  {
   "cell_type": "markdown",
   "id": "1abf4a3a",
   "metadata": {},
   "source": [
    "# "
   ]
  },
  {
   "cell_type": "markdown",
   "id": "c089680a",
   "metadata": {},
   "source": [
    "# "
   ]
  },
  {
   "cell_type": "code",
   "execution_count": null,
   "id": "d5955c38",
   "metadata": {},
   "outputs": [],
   "source": [
    "iu_concert = True\n",
    "location = \"서울\"\n",
    "concert_day = \"월요일\"\n",
    "\n",
    "if iu_concert and location == \"서울\": \n",
    "    print(\"티켓팅 함\")\n",
    "    if concert_day == \"월요일\" or concert_day == \"화요일\" or concert_day == \"수요일\":\n",
    "        print(\"반차 씀\")\n",
    "    elif concert_day == \"목요일\" or concert_day == \"금요일\":\n",
    "        print(\"연차 씀\")\n",
    "else:\n",
    "    print(\"티켓팅 안함\")"
   ]
  },
  {
   "cell_type": "markdown",
   "id": "8079331f",
   "metadata": {},
   "source": [
    "# "
   ]
  },
  {
   "cell_type": "markdown",
   "id": "8d9b9907",
   "metadata": {},
   "source": [
    "# "
   ]
  },
  {
   "cell_type": "markdown",
   "id": "12180805",
   "metadata": {},
   "source": [
    "- in, not in 사용하기"
   ]
  },
  {
   "cell_type": "code",
   "execution_count": null,
   "id": "29390a06",
   "metadata": {},
   "outputs": [],
   "source": [
    "# 이번 이벤트 당첨 번호는 10, 15, 18, 33, 50 이다. \n",
    "# 내 번호가 당첨 번호에 포함되었다면, 상품을 받을 수 있다. \n",
    "\n",
    "lotto_numbers = [10, 15, 18, 33, 50]\n",
    "my_number = 10\n",
    "\n",
    "if my_number in lotto_numbers: \n",
    "    print(\"당첨! 상품 수령\")\n",
    "elif my_number not in lotto_numbers:\n",
    "    print(\"아쉽지만 다음 기회에..\")"
   ]
  },
  {
   "cell_type": "code",
   "execution_count": null,
   "id": "834095a1",
   "metadata": {},
   "outputs": [],
   "source": [
    "# 월/화/수요일이면 반차를 쓰고, 목/금요일이면 연차를 쓸 것이다. 주말이면, 그냥 쉴 것이다. \n",
    "\n",
    "half_break_days = [\"월\", \"화\", \"수\"]\n",
    "full_break_days = [\"목\", \"금\"]\n",
    "day = \"월\"\n",
    "\n",
    "if day in half_break_days:\n",
    "    print(\"반차 씀\")\n",
    "elif day in full_break_days:\n",
    "    print(\"연차 씀\")\n",
    "else:\n",
    "    print(\"주말이니, 그냥 쉬어~\")\n"
   ]
  },
  {
   "cell_type": "markdown",
   "id": "59f52b42",
   "metadata": {},
   "source": [
    "# "
   ]
  },
  {
   "cell_type": "markdown",
   "id": "e5163283",
   "metadata": {},
   "source": [
    "##### Quiz 1: \n",
    "다음 코드의 결과값은 무엇일까요? \n",
    "- A. python shirt\n",
    "- B. need\n",
    "- C. none\n",
    "- D. shirt\n",
    "- E. python"
   ]
  },
  {
   "cell_type": "code",
   "execution_count": null,
   "id": "56bd5c92",
   "metadata": {},
   "outputs": [],
   "source": [
    "a = \"Life is too short, you need python\"\n",
    "\n",
    "if \"wife\" in a: \n",
    "    print(\"wife\")\n",
    "elif \"python\" in a and \"you\" not in a: \n",
    "    print(\"python\")\n",
    "elif \"shirt\" not in a: \n",
    "    print(\"shirt\")\n",
    "elif \"need\" in a: \n",
    "    print(\"need\")\n",
    "else: print(\"none\")"
   ]
  },
  {
   "cell_type": "markdown",
   "id": "e309b8b4",
   "metadata": {},
   "source": [
    "# "
   ]
  },
  {
   "cell_type": "markdown",
   "id": "c2699cca",
   "metadata": {},
   "source": [
    "# 1교시 (21:10~22:00) \n",
    "\n",
    "### 반복문\n",
    "- While \n",
    "- For "
   ]
  },
  {
   "cell_type": "markdown",
   "id": "4808a2e7",
   "metadata": {},
   "source": [
    "### While"
   ]
  },
  {
   "cell_type": "code",
   "execution_count": null,
   "id": "611a0b1a",
   "metadata": {},
   "outputs": [],
   "source": [
    "num = 0\n",
    "\n",
    "print(\"시작!\")\n",
    "\n",
    "while num < 10:      # 10 < 10 ==> False \n",
    "    num = num + 1    # num = 10\n",
    "    print(num)       # print\n",
    "    \n",
    "print(\"끝!\")"
   ]
  },
  {
   "cell_type": "code",
   "execution_count": null,
   "id": "7ccfb14c",
   "metadata": {},
   "outputs": [],
   "source": [
    "# While (조건) , (행위)\n",
    "# 공부하는 동안, 핸드폰을 보지 않을 것이다.\n",
    "# While (studying), (will not look at my phone)\n",
    "\n",
    "study = False\n",
    "while study: \n",
    "    print(\"공부중이에요\")\n",
    "    print(\"핸드폰은 꺼두고\")\n",
    "    print(\"공부에 집중해요\")\n",
    "    print(\"...\")\n",
    "    \n",
    "print(\"실행 끝! \")"
   ]
  },
  {
   "cell_type": "code",
   "execution_count": null,
   "id": "b0e1e739",
   "metadata": {},
   "outputs": [],
   "source": [
    "# 무한 루프\n",
    "\n",
    "study = True\n",
    "while study: \n",
    "    print(\"공부중이에요\")\n",
    "    print(\"핸드폰은 꺼두고\")\n",
    "    print(\"공부에 집중해요\")\n",
    "    print(\"...\")"
   ]
  },
  {
   "cell_type": "code",
   "execution_count": null,
   "id": "c0575c66",
   "metadata": {},
   "outputs": [],
   "source": [
    "# 탈출 조건이 없으면, 평생 반복됨 (or, memory crash)\n",
    "# 공부하는 동안, 핸드폰을 보지 않을 것이다. 공부 시간을 5시간 채우면, 핸드폰을 볼 것이다. \n",
    "\n",
    "study_hour = 0\n",
    "\n",
    "while study_hour < 5: \n",
    "    print(f\"{study_hour} 시간째 공부중이에요\")\n",
    "    print(\"핸드폰은 꺼두고\")\n",
    "    print(\"공부에 집중해요\")\n",
    "    print(\"...\")\n",
    "    \n",
    "    study_hour = study_hour + 1\n",
    "\n",
    "print(f\"이제 공부한지 {study_hour} 시간이 되었으니 핸드폰을 봐야지!\")"
   ]
  },
  {
   "cell_type": "code",
   "execution_count": null,
   "id": "c8b131d9",
   "metadata": {},
   "outputs": [],
   "source": [
    "# 다른 방법으로 탈출하기: break\n",
    "\n",
    "# 공부하는 동안, 핸드폰을 보지 않을 것이다. 공부 시간을 5시간 채우면, 핸드폰을 볼 것이다.  \n",
    "\n",
    "is_studying = True\n",
    "study_hour = 0\n",
    "while is_studying: \n",
    "    print(f\"{study_hour} 시간째 공부중이에요\")\n",
    "    print(\"핸드폰은 꺼두고\")\n",
    "    print(\"공부에 집중해요\")\n",
    "    print(\"...\")\n",
    "    \n",
    "    study_hour = study_hour + 1\n",
    "    \n",
    "    if study_hour >= 5:\n",
    "        print(\"앗!?\")\n",
    "        break\n",
    "\n",
    "print(f\"이제 공부한지 {study_hour} 시간이 되었으니 핸드폰을 봐야지!\")"
   ]
  },
  {
   "cell_type": "code",
   "execution_count": null,
   "id": "091a0682",
   "metadata": {},
   "outputs": [],
   "source": [
    "# 실행 로직을 중간에서 끊고, 다시 처음으로 돌아가기: continue\n",
    "\n",
    "# 1부터 10까지의 숫자 중에서 홀수만 출력\n",
    "\n",
    "a = 0\n",
    "while a < 10:\n",
    "    a = a + 1\n",
    "    print(a)\n",
    "    if a % 2 == 0: \n",
    "        continue\n",
    "    print(a, \"୧(๑•̀⌄•́๑)૭\")"
   ]
  },
  {
   "cell_type": "code",
   "execution_count": null,
   "id": "635208b1",
   "metadata": {},
   "outputs": [],
   "source": [
    "# TIP ) 사용자가 값을 직접 입력하게 하는 방법: \n",
    "\n",
    "input(\"여기에 입력하세요\")"
   ]
  },
  {
   "cell_type": "code",
   "execution_count": null,
   "id": "15b19f17",
   "metadata": {},
   "outputs": [],
   "source": [
    "# 변수에 담을 수도 있어요\n",
    "\n",
    "number = input(\"여기에 생년월일을 입력하세요\")\n",
    "print(\"내 생일은,\", number)"
   ]
  },
  {
   "cell_type": "code",
   "execution_count": null,
   "id": "a94aab15",
   "metadata": {},
   "outputs": [],
   "source": [
    "new = int('1000')\n",
    "print(new)"
   ]
  },
  {
   "cell_type": "code",
   "execution_count": null,
   "id": "92906f3d",
   "metadata": {},
   "outputs": [],
   "source": [
    "# ! 단, 디폴트 데이터 타입은 string (문자열) 이에요\n",
    "\n",
    "number = input(\"10을 입력하세요\")\n",
    "print(number)\n",
    "print(number == '10')\n",
    "print(number == 10)\n",
    "\n",
    "# string 을 숫자로 변환\n",
    "print(int(number) == 10)"
   ]
  },
  {
   "cell_type": "code",
   "execution_count": null,
   "id": "8a0b347c",
   "metadata": {},
   "outputs": [],
   "source": [
    "# input 과 while 문을 사용하여, 은행 계좌 잔액이 0이 될 때까지 출금해보기 \n",
    "\n",
    "# 돈이 있는 은행 계좌가 있고\n",
    "# 계좌의 잔액이 0 이상인 동안, 사용자가 지정한 값만큼 출금 할 수 있어야 한다. \n",
    "\n",
    "my_account_total_balance = 10000\n",
    "\n",
    "while my_account_total_balance > 0:\n",
    "    withdraw_amount = input(\"얼마를 출금하실건가요? :\") \n",
    "    \n",
    "    my_account_total_balance = my_account_total_balance - int(withdraw_amount)\n",
    "\n",
    "    print(\"잔액: \", my_account_total_balance)"
   ]
  },
  {
   "cell_type": "code",
   "execution_count": null,
   "id": "7715ea6b",
   "metadata": {},
   "outputs": [],
   "source": [
    "# solution (2)\n",
    "\n",
    "my_account_total_balance = 10000\n",
    "\n",
    "while my_account_total_balance > 0:\n",
    "    withdraw_amount = int(input(f\"얼마를 출금하실건가요? (현재 계좌 잔액: {my_account_total_balance}원) \"))\n",
    "    \n",
    "    if withdraw_amount > my_account_total_balance:\n",
    "        print(\"경고! 출금하려는 금액이 계좌 잔액보다 큽니다.\")\n",
    "    elif withdraw_amount % 10 != 0:\n",
    "        print(\"경고! 10의 단위로만 출금 가능합니다.\")\n",
    "    else:\n",
    "        my_account_total_balance = my_account_total_balance - withdraw_amount\n",
    "        print(\"잔액: \", my_account_total_balance)"
   ]
  },
  {
   "cell_type": "markdown",
   "id": "8af42213",
   "metadata": {},
   "source": [
    "##### Quiz 2. \n",
    "\n",
    "위의 while 문에, 아래 명시된 규칙들을 추가로 반영해주세요.\n",
    "- 출금하고자 하는 금액이 잔액보다 클 때는 출금이 되지 않고, 경고 알림만 보내도록 처리 \n",
    "- 출금하고자 하는 금액이 10의 단위로 나누어지지 않으면, 경고 알림만 보내도록 처리 \n",
    "- 사용자에게 input 을 받을 때, 현재 잔액도 표시되도록 처리 \n"
   ]
  },
  {
   "cell_type": "markdown",
   "id": "a45ba3d5",
   "metadata": {},
   "source": [
    "# "
   ]
  },
  {
   "cell_type": "markdown",
   "id": "90aff56b",
   "metadata": {},
   "source": [
    "# "
   ]
  },
  {
   "cell_type": "markdown",
   "id": "b4a0d779",
   "metadata": {},
   "source": [
    "# "
   ]
  },
  {
   "cell_type": "markdown",
   "id": "807df388",
   "metadata": {},
   "source": [
    "# "
   ]
  },
  {
   "cell_type": "code",
   "execution_count": null,
   "id": "03afdc8e",
   "metadata": {},
   "outputs": [],
   "source": [
    "my_account_total_balance = 10000\n",
    "\n",
    "while my_account_total_balance > 0:\n",
    "    withdraw_amount = int(input(f\"얼마를 출금하실건가요? (현재 잔액은 {my_account_total_balance} 원입니다):\"))\n",
    "    \n",
    "    if withdraw_amount % 10 != 0:\n",
    "        print(\"경고: 10의 단위로 떨어지는 값을 입력해주세요\")\n",
    "        continue\n",
    "    \n",
    "    if withdraw_amount > my_account_total_balance:\n",
    "        print(\"경고: 잔액보다 큰 금액을 출금할 수 없습니다\")\n",
    "        continue\n",
    "        \n",
    "    my_account_total_balance = my_account_total_balance - withdraw_amount\n",
    "    print(\"잔액: \", my_account_total_balance)"
   ]
  },
  {
   "cell_type": "markdown",
   "id": "b6d4d55e",
   "metadata": {},
   "source": [
    "# "
   ]
  },
  {
   "cell_type": "markdown",
   "id": "1dc58ea5",
   "metadata": {},
   "source": [
    "### 과제"
   ]
  },
  {
   "cell_type": "code",
   "execution_count": null,
   "id": "b83bcc35",
   "metadata": {},
   "outputs": [],
   "source": [
    "# Q1. while문을 사용해 1부터 1000까지의 자연수 중 3의 배수의 합을 구해 보자."
   ]
  },
  {
   "cell_type": "code",
   "execution_count": null,
   "id": "9811e8af",
   "metadata": {},
   "outputs": [],
   "source": [
    "# Q2. while문을 사용하여 다음과 같이 별(*)을 표시하는 프로그램을 작성해 보자.\n",
    "\n",
    "*\n",
    "**\n",
    "***\n",
    "****\n",
    "*****"
   ]
  }
 ],
 "metadata": {
  "kernelspec": {
   "display_name": "Python 3 (ipykernel)",
   "language": "python",
   "name": "python3"
  },
  "language_info": {
   "codemirror_mode": {
    "name": "ipython",
    "version": 3
   },
   "file_extension": ".py",
   "mimetype": "text/x-python",
   "name": "python",
   "nbconvert_exporter": "python",
   "pygments_lexer": "ipython3",
   "version": "3.9.12"
  }
 },
 "nbformat": 4,
 "nbformat_minor": 5
}
