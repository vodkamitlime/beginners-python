{
 "cells": [
  {
   "cell_type": "markdown",
   "id": "89442d51",
   "metadata": {},
   "source": [
    "# 0교시 (09:30~10:35) \n",
    "\n",
    "### Recap\n",
    "- 변수\n",
    "- 자료형 \n",
    "- 숫자 (Number)\n",
    "    - +, -, /, *, //, %\n",
    "- 문자열 (String) \n",
    "    - singleline(\", '), multiline(\"\"\", ''')\n",
    "    - index\n",
    "\n",
    "\n",
    "    \n",
    "### Github\n",
    "- 다들 가입하셨나요?\n",
    "- beginners-python repository 공개\n",
    "- Q&A\n",
    "    "
   ]
  },
  {
   "cell_type": "markdown",
   "id": "47c77528",
   "metadata": {},
   "source": [
    "# "
   ]
  },
  {
   "cell_type": "markdown",
   "id": "7916cb0d",
   "metadata": {},
   "source": [
    "#### 문자열 포맷팅\n",
    "- 문자열 안에 있는 값을 바로 대체해버리기"
   ]
  },
  {
   "cell_type": "markdown",
   "id": "7016870e",
   "metadata": {},
   "source": [
    "##### 방법 1: %s 쓰기 (포맷 코드)"
   ]
  },
  {
   "cell_type": "code",
   "execution_count": null,
   "id": "b904093a",
   "metadata": {},
   "outputs": [],
   "source": [
    "\"I ate 3 apples.\""
   ]
  },
  {
   "cell_type": "code",
   "execution_count": null,
   "id": "0c3a09e7",
   "metadata": {},
   "outputs": [],
   "source": [
    "\"I ate %s apples.\" % 3"
   ]
  },
  {
   "cell_type": "code",
   "execution_count": null,
   "id": "62070d92",
   "metadata": {},
   "outputs": [],
   "source": [
    "\"I ate %s apples.\" % \"five\""
   ]
  },
  {
   "cell_type": "code",
   "execution_count": null,
   "id": "20d8eba3",
   "metadata": {},
   "outputs": [],
   "source": [
    "\"I ate %s apples. so I was sick for %s days.\" % (3, \"five\")"
   ]
  },
  {
   "cell_type": "code",
   "execution_count": null,
   "id": "bd38bf8f",
   "metadata": {},
   "outputs": [],
   "source": [
    "count = 10\n",
    "days = \"eight\"\n",
    "\"I ate %s apples. so I was sick for %s days.\" % (count, days)"
   ]
  },
  {
   "cell_type": "markdown",
   "id": "1eebe8ea",
   "metadata": {},
   "source": [
    "##### 방법 2: .format() 쓰기"
   ]
  },
  {
   "cell_type": "code",
   "execution_count": null,
   "id": "f0032e7c",
   "metadata": {},
   "outputs": [],
   "source": [
    "\"I eat {0} apples\".format(3)"
   ]
  },
  {
   "cell_type": "code",
   "execution_count": null,
   "id": "127eb7c4",
   "metadata": {},
   "outputs": [],
   "source": [
    "\"I eat {1} apples and {0} mangoes\".format(3, \"two\")"
   ]
  },
  {
   "cell_type": "code",
   "execution_count": null,
   "id": "78ea4046",
   "metadata": {},
   "outputs": [],
   "source": [
    "\"I eat {0} apples, {1} potatoes and {0} mangoes\".format(3, 10)"
   ]
  },
  {
   "cell_type": "code",
   "execution_count": null,
   "id": "115908a6",
   "metadata": {
    "scrolled": true
   },
   "outputs": [],
   "source": [
    "number = 10\n",
    "day = \"three\"\n",
    "\"I ate {0} apples. so I was sick for {1} days.\".format(number, day)"
   ]
  },
  {
   "cell_type": "code",
   "execution_count": null,
   "id": "68b29c43",
   "metadata": {},
   "outputs": [],
   "source": [
    "\"I ate {number} apples. so I was sick for {day} days.\".format(number=10, day=3)"
   ]
  },
  {
   "cell_type": "code",
   "execution_count": null,
   "id": "0a259064",
   "metadata": {},
   "outputs": [],
   "source": [
    "\"I ate {number} apples. so I was sick for {0} days.\".format(100, number=10)"
   ]
  },
  {
   "cell_type": "code",
   "execution_count": null,
   "id": "5c014a53",
   "metadata": {},
   "outputs": [],
   "source": [
    "\"I ate {number} apples. so I was sick for {3} days.\".format(100, 2, 3, 4, number=10)"
   ]
  },
  {
   "cell_type": "markdown",
   "id": "e1548773",
   "metadata": {},
   "source": [
    "##### 방법 3: f string 쓰기"
   ]
  },
  {
   "cell_type": "code",
   "execution_count": null,
   "id": "5df06cdc",
   "metadata": {},
   "outputs": [],
   "source": [
    "name = 'Haeun'\n",
    "age = 100\n",
    "f'나의 이름은 {name}입니다. 나이는 {age}입니다.'"
   ]
  },
  {
   "cell_type": "code",
   "execution_count": null,
   "id": "03c38577",
   "metadata": {},
   "outputs": [],
   "source": [
    "name = 'Haeun'\n",
    "print(f'나의 이름은 {name}입니다. 나이는 {1+2+3+4}입니다.')"
   ]
  },
  {
   "cell_type": "markdown",
   "id": "52970833",
   "metadata": {},
   "source": [
    "#### Quiz 0\n",
    "3 가지 다른 방법을 사용하여 괄호 안의 있는 내용을 포맷팅 해보세요. 어떤 방식을 가장 선호하시나요?\n",
    "\n",
    "\"Hello (name), I'm from (Country) and I study (Subject)\" \n"
   ]
  },
  {
   "cell_type": "markdown",
   "id": "7e97b8fe",
   "metadata": {},
   "source": [
    "# "
   ]
  },
  {
   "cell_type": "markdown",
   "id": "f8957711",
   "metadata": {},
   "source": [
    "# "
   ]
  },
  {
   "cell_type": "markdown",
   "id": "5c26ec88",
   "metadata": {},
   "source": [
    "# "
   ]
  },
  {
   "cell_type": "markdown",
   "id": "6bb467b2",
   "metadata": {},
   "source": [
    "# "
   ]
  },
  {
   "cell_type": "markdown",
   "id": "21d93418",
   "metadata": {},
   "source": [
    "# "
   ]
  },
  {
   "cell_type": "code",
   "execution_count": null,
   "id": "b68e118a",
   "metadata": {
    "scrolled": true
   },
   "outputs": [],
   "source": [
    "name = \"stranger\"\n",
    "country = \"Myanmar\"\n",
    "subject = \"Computer Science\"\n",
    "\n",
    "print(\"Hello %s, I'm from %s and I study %s\" % (name, country, subject))\n",
    "print(\"Hello {0}, I'm from {country_two} and I study {1}\".format(name, subject, country_two = \"Korea\"))\n",
    "print(f\"Hello {name}, I'm from {country} and I study {subject}\")"
   ]
  },
  {
   "cell_type": "markdown",
   "id": "0a85d64b",
   "metadata": {},
   "source": [
    "# "
   ]
  },
  {
   "cell_type": "markdown",
   "id": "12cbd482",
   "metadata": {},
   "source": [
    "# 1교시 (10:45~12:00)"
   ]
  },
  {
   "cell_type": "markdown",
   "id": "63d93d88",
   "metadata": {},
   "source": [
    "### snake_case 란?\n",
    "- 프로그래밍 할 때 공백을 제거하는 방법 중 하나 \n",
    "- 변수명을 지을 때 사용하는 방법\n",
    "- 다양한 방법들....\n",
    " - python_uses_snake_case\n",
    " - javaUsesCamelCase\n",
    " - urls-use-kebab-case\n",
    " - ClassesUsePascalCase"
   ]
  },
  {
   "cell_type": "code",
   "execution_count": null,
   "id": "41217828",
   "metadata": {},
   "outputs": [],
   "source": [
    "address = \"수원시 장안구 송죽동 1234567\"\n",
    "old_address = \"수원시 장안구 송죽동 1234567\"\n",
    "new_address = \"수원시 장안구 파장천로 1234567길8910\""
   ]
  },
  {
   "cell_type": "markdown",
   "id": "828d7464",
   "metadata": {},
   "source": [
    "# "
   ]
  },
  {
   "cell_type": "markdown",
   "id": "2b861f76",
   "metadata": {},
   "source": [
    "#### 문자열 함수\n",
    "- 함수: 특정한 행동을 실행하는 명령문 ex) print\n",
    "- f(x) = yx + b \n",
    "- f(x, y, z) => output "
   ]
  },
  {
   "cell_type": "code",
   "execution_count": null,
   "id": "fc2e3969",
   "metadata": {},
   "outputs": [],
   "source": [
    "print(\"Hello World!\")"
   ]
  },
  {
   "cell_type": "markdown",
   "id": "72980144",
   "metadata": {},
   "source": [
    "##### 함수 0: count\n",
    "- case sensitive"
   ]
  },
  {
   "cell_type": "code",
   "execution_count": null,
   "id": "b155227f",
   "metadata": {},
   "outputs": [],
   "source": [
    "string = 'Winnie the Pooh'"
   ]
  },
  {
   "cell_type": "code",
   "execution_count": null,
   "id": "fabe1c4b",
   "metadata": {},
   "outputs": [],
   "source": [
    "\"Teddy Bear\".count('d')"
   ]
  },
  {
   "cell_type": "code",
   "execution_count": null,
   "id": "237e509b",
   "metadata": {},
   "outputs": [],
   "source": [
    "string.count('w')"
   ]
  },
  {
   "cell_type": "code",
   "execution_count": null,
   "id": "acdbb5bd",
   "metadata": {},
   "outputs": [],
   "source": [
    "string.count('W')"
   ]
  },
  {
   "cell_type": "code",
   "execution_count": null,
   "id": "b61e5be9",
   "metadata": {},
   "outputs": [],
   "source": [
    "string.count(' ')"
   ]
  },
  {
   "cell_type": "markdown",
   "id": "2f28e20e",
   "metadata": {},
   "source": [
    "##### 함수 1: find, index\n",
    "- 사전 필수 지식: 인덱싱"
   ]
  },
  {
   "cell_type": "code",
   "execution_count": null,
   "id": "0f640e00",
   "metadata": {},
   "outputs": [],
   "source": [
    "\"Python is the best choice\".find('b')"
   ]
  },
  {
   "cell_type": "code",
   "execution_count": null,
   "id": "11f02543",
   "metadata": {},
   "outputs": [],
   "source": [
    "\"Python is the best choice\".find('z') # error? null? no! -1 "
   ]
  },
  {
   "cell_type": "code",
   "execution_count": null,
   "id": "30a373ba",
   "metadata": {},
   "outputs": [],
   "source": [
    "string = 'Winnie the Pooh'"
   ]
  },
  {
   "cell_type": "code",
   "execution_count": null,
   "id": "1d849462",
   "metadata": {},
   "outputs": [],
   "source": [
    "#  대문자\n",
    "string.find('P') "
   ]
  },
  {
   "cell_type": "code",
   "execution_count": null,
   "id": "4521bdfe",
   "metadata": {},
   "outputs": [],
   "source": [
    "#  소문자\n",
    "string.find('p')"
   ]
  },
  {
   "cell_type": "code",
   "execution_count": null,
   "id": "83cf6869",
   "metadata": {},
   "outputs": [],
   "source": [
    "\"Python is the best choice\".index('b')"
   ]
  },
  {
   "cell_type": "code",
   "execution_count": null,
   "id": "c4179947",
   "metadata": {},
   "outputs": [],
   "source": [
    "\"Python is the best choice\".index('z') # error "
   ]
  },
  {
   "cell_type": "code",
   "execution_count": null,
   "id": "f42dd903",
   "metadata": {},
   "outputs": [],
   "source": [
    "# 대문자\n",
    "string.index('P') "
   ]
  },
  {
   "cell_type": "code",
   "execution_count": null,
   "id": "dcada8b4",
   "metadata": {},
   "outputs": [],
   "source": [
    "# 소문자\n",
    "string.index('p')"
   ]
  },
  {
   "cell_type": "markdown",
   "id": "67277638",
   "metadata": {},
   "source": [
    "### 주석이란?\n",
    "- 프로그래밍 할 때 코드 이외의 부연 설명을 하기 위해 사용\n",
    "- 주석으로 표식된 텍스트나 코드는 프로그램에서 \"생략\" 처리 되어, 결과 출력에 영향을 주지 않음 \n",
    "- cmd + /  또는 ctrl + / 으로 쉽게 주석 달 수 있음 "
   ]
  },
  {
   "cell_type": "markdown",
   "id": "d89ed22e",
   "metadata": {},
   "source": [
    "##### 함수 2: upper, lower"
   ]
  },
  {
   "cell_type": "code",
   "execution_count": null,
   "id": "9552f831",
   "metadata": {},
   "outputs": [],
   "source": [
    "\"wine\".upper()"
   ]
  },
  {
   "cell_type": "code",
   "execution_count": null,
   "id": "c49916e1",
   "metadata": {},
   "outputs": [],
   "source": [
    "\"BEER\".lower()"
   ]
  },
  {
   "cell_type": "markdown",
   "id": "36a760e8",
   "metadata": {},
   "source": [
    "##### 함수 3: strip"
   ]
  },
  {
   "cell_type": "code",
   "execution_count": null,
   "id": "6d4e4652",
   "metadata": {},
   "outputs": [],
   "source": [
    "\"              spaces    \".strip()"
   ]
  },
  {
   "cell_type": "code",
   "execution_count": null,
   "id": "9ed97c28",
   "metadata": {},
   "outputs": [],
   "source": [
    "\"              spaces    \".lstrip()"
   ]
  },
  {
   "cell_type": "code",
   "execution_count": null,
   "id": "9538db3f",
   "metadata": {},
   "outputs": [],
   "source": [
    "\"              spaces    \".rstrip()"
   ]
  },
  {
   "cell_type": "markdown",
   "id": "913854df",
   "metadata": {},
   "source": [
    "##### 함수 4: replace"
   ]
  },
  {
   "cell_type": "code",
   "execution_count": null,
   "id": "89af6c4f",
   "metadata": {},
   "outputs": [],
   "source": [
    "\"Life is too short\".replace(\"short\", \"long\")"
   ]
  },
  {
   "cell_type": "code",
   "execution_count": null,
   "id": "38bc2549",
   "metadata": {},
   "outputs": [],
   "source": [
    "\"Life is too short\".replace(\" \", \"???\")"
   ]
  },
  {
   "cell_type": "markdown",
   "id": "3a7a5a98",
   "metadata": {},
   "source": [
    "##### 함수 5: split"
   ]
  },
  {
   "cell_type": "code",
   "execution_count": null,
   "id": "a33e636f",
   "metadata": {},
   "outputs": [],
   "source": [
    "\"Life is too short\".split() # 디폴트 ' '"
   ]
  },
  {
   "cell_type": "code",
   "execution_count": null,
   "id": "aad81048",
   "metadata": {},
   "outputs": [],
   "source": [
    "\"Life is too short\".split(\"o\")"
   ]
  },
  {
   "cell_type": "markdown",
   "id": "5ce49c54",
   "metadata": {},
   "source": [
    "##### 함수 6: join"
   ]
  },
  {
   "cell_type": "code",
   "execution_count": null,
   "id": "c31a2a0b",
   "metadata": {},
   "outputs": [],
   "source": [
    "\",\".join('abcd')"
   ]
  },
  {
   "cell_type": "code",
   "execution_count": null,
   "id": "1be6ac48",
   "metadata": {},
   "outputs": [],
   "source": [
    "1.join('abcd')"
   ]
  },
  {
   "cell_type": "code",
   "execution_count": null,
   "id": "97ca6f1d",
   "metadata": {},
   "outputs": [],
   "source": [
    "\"1\".join('abcd')"
   ]
  },
  {
   "cell_type": "markdown",
   "id": "ecbd4d97",
   "metadata": {},
   "source": [
    "#### Quiz 1 \n",
    "a = \"1234\"\n",
    "\n",
    "a = \"1 or 2 or 3 or 4\"\n",
    "\n",
    "\n",
    "\n",
    "#### Quiz 2\n",
    "b = \"one two three four\" \n",
    "\n",
    "b = \"ONE,TWO,THREE\""
   ]
  },
  {
   "cell_type": "markdown",
   "id": "4ceb6ede",
   "metadata": {},
   "source": [
    "# "
   ]
  },
  {
   "cell_type": "markdown",
   "id": "c673726d",
   "metadata": {},
   "source": [
    "# "
   ]
  },
  {
   "cell_type": "markdown",
   "id": "4ae0b215",
   "metadata": {},
   "source": [
    "# "
   ]
  },
  {
   "cell_type": "markdown",
   "id": "b2c5718d",
   "metadata": {},
   "source": [
    "# "
   ]
  },
  {
   "cell_type": "markdown",
   "id": "00e46670",
   "metadata": {},
   "source": [
    "# "
   ]
  },
  {
   "cell_type": "markdown",
   "id": "dc2eda81",
   "metadata": {},
   "source": [
    "# "
   ]
  },
  {
   "cell_type": "markdown",
   "id": "c5049076",
   "metadata": {},
   "source": [
    "# "
   ]
  },
  {
   "cell_type": "markdown",
   "id": "a0ef97fa",
   "metadata": {},
   "source": [
    "# "
   ]
  },
  {
   "cell_type": "code",
   "execution_count": null,
   "id": "f8205fb2",
   "metadata": {},
   "outputs": [],
   "source": [
    "a = \"1234\"\n",
    "\" or \".join(a)"
   ]
  },
  {
   "cell_type": "code",
   "execution_count": null,
   "id": "e3b4aba6",
   "metadata": {},
   "outputs": [],
   "source": [
    "b = \"one two three four\"\n",
    "b = b[:-5]\n",
    "b = b.replace(\" \", \",\")\n",
    "b = b.upper()\n",
    "\n",
    "print(b)"
   ]
  },
  {
   "cell_type": "markdown",
   "id": "9bb2c1c8",
   "metadata": {},
   "source": [
    "# "
   ]
  },
  {
   "cell_type": "markdown",
   "id": "da977f2c",
   "metadata": {},
   "source": [
    "#### 리스트 (List) 배열\n",
    "- 말 그래도, 일렬의 여러 값을 사용할 때 쓰는 자료형\n",
    "- 다른 언어에서는 Array 로 보편적으로 불림\n",
    "- [element0, element1, element2]\n",
    "\n",
    "<br>\n",
    "\n",
    "![참고 이미지](https://media.geeksforgeeks.org/wp-content/uploads/CommonArticleDesign1-min.png)"
   ]
  },
  {
   "cell_type": "code",
   "execution_count": null,
   "id": "89e3739e",
   "metadata": {},
   "outputs": [],
   "source": [
    "a = [] # 빈 리스트 \n",
    "b = [1, 3, 5, 7, 9]\n",
    "c = [\"test\", \"end\"]\n",
    "d = [[1, 2, 3], 4, \"5\"]"
   ]
  },
  {
   "cell_type": "code",
   "execution_count": null,
   "id": "d28aa6c6",
   "metadata": {},
   "outputs": [],
   "source": [
    "# 리스트 인덱싱\n",
    "\n",
    "a = [1, 2, 3, 4, 5]\n",
    "a[0]"
   ]
  },
  {
   "cell_type": "code",
   "execution_count": null,
   "id": "9dcab1ca",
   "metadata": {},
   "outputs": [],
   "source": [
    "a[3]"
   ]
  },
  {
   "cell_type": "code",
   "execution_count": null,
   "id": "dda58c2f",
   "metadata": {},
   "outputs": [],
   "source": [
    "a[5]"
   ]
  },
  {
   "cell_type": "code",
   "execution_count": null,
   "id": "dc1ee92e",
   "metadata": {},
   "outputs": [],
   "source": [
    "a[-1]"
   ]
  },
  {
   "cell_type": "code",
   "execution_count": null,
   "id": "80fd30b4",
   "metadata": {},
   "outputs": [],
   "source": [
    "d = [[1, 2, 3], 4, \"5\"]\n",
    "d[0]"
   ]
  },
  {
   "cell_type": "code",
   "execution_count": null,
   "id": "710d7cd9",
   "metadata": {},
   "outputs": [],
   "source": [
    "d[0][1] + a[2]"
   ]
  },
  {
   "cell_type": "markdown",
   "id": "9825b42d",
   "metadata": {},
   "source": [
    "#### Quiz 3. 인덱싱을 활용해 6 을 찾아보세요 \n",
    "hard = [40, [100, 200, 300, [2, 4, 6, 8]], \"5\"]"
   ]
  },
  {
   "cell_type": "markdown",
   "id": "b9dd24ee",
   "metadata": {},
   "source": [
    "# "
   ]
  },
  {
   "cell_type": "markdown",
   "id": "92be2153",
   "metadata": {},
   "source": [
    "# "
   ]
  },
  {
   "cell_type": "markdown",
   "id": "6aa2839d",
   "metadata": {},
   "source": [
    "# "
   ]
  },
  {
   "cell_type": "markdown",
   "id": "0eaf43a6",
   "metadata": {},
   "source": [
    "# "
   ]
  },
  {
   "cell_type": "markdown",
   "id": "3313f567",
   "metadata": {},
   "source": [
    "# "
   ]
  },
  {
   "cell_type": "markdown",
   "id": "0b178fbf",
   "metadata": {},
   "source": [
    "# "
   ]
  },
  {
   "cell_type": "code",
   "execution_count": null,
   "id": "a0e56846",
   "metadata": {},
   "outputs": [],
   "source": [
    "hard = [40, [100, 200, 300, [2, 4, 6, 8]], \"5\"]\n",
    "hard[1][-1][2]"
   ]
  },
  {
   "cell_type": "markdown",
   "id": "79770188",
   "metadata": {},
   "source": [
    "# "
   ]
  },
  {
   "cell_type": "code",
   "execution_count": null,
   "id": "2ecf68f5",
   "metadata": {},
   "outputs": [],
   "source": [
    "# 리스트 슬라이싱\n",
    "\n",
    "a = \"12345\"\n",
    "print(a[0:2])\n",
    "\n",
    "a = [1, 2, 3, 4, 5]\n",
    "print(a[0:2])"
   ]
  },
  {
   "cell_type": "code",
   "execution_count": null,
   "id": "44f05aa6",
   "metadata": {
    "scrolled": true
   },
   "outputs": [],
   "source": [
    "a[3:]"
   ]
  },
  {
   "cell_type": "code",
   "execution_count": null,
   "id": "8ab98ea1",
   "metadata": {},
   "outputs": [],
   "source": [
    "a[:3]"
   ]
  },
  {
   "cell_type": "code",
   "execution_count": null,
   "id": "d233f559",
   "metadata": {},
   "outputs": [],
   "source": [
    "a[2:4]"
   ]
  },
  {
   "cell_type": "code",
   "execution_count": null,
   "id": "6034c9da",
   "metadata": {},
   "outputs": [],
   "source": [
    "# 등차로 증감/감소하기\n",
    "\n",
    "a[0:4:2]"
   ]
  },
  {
   "cell_type": "code",
   "execution_count": null,
   "id": "2cabc47c",
   "metadata": {},
   "outputs": [],
   "source": [
    "a[4:0]"
   ]
  },
  {
   "cell_type": "code",
   "execution_count": null,
   "id": "7d69912a",
   "metadata": {},
   "outputs": [],
   "source": [
    "a[4:0:-1]"
   ]
  },
  {
   "cell_type": "code",
   "execution_count": null,
   "id": "82a037f5",
   "metadata": {},
   "outputs": [],
   "source": [
    "a[1::2]"
   ]
  },
  {
   "cell_type": "code",
   "execution_count": null,
   "id": "d778c2bb",
   "metadata": {},
   "outputs": [],
   "source": [
    "# 리스트 연산하기\n",
    "\n",
    "[1,2,3] + [4,5,6]"
   ]
  },
  {
   "cell_type": "code",
   "execution_count": null,
   "id": "d99b5217",
   "metadata": {},
   "outputs": [],
   "source": [
    "[1] * 6"
   ]
  },
  {
   "cell_type": "code",
   "execution_count": null,
   "id": "f8f362a6",
   "metadata": {},
   "outputs": [],
   "source": [
    "[1,2,3] + [\"hi\"]"
   ]
  },
  {
   "cell_type": "code",
   "execution_count": null,
   "id": "2350e37f",
   "metadata": {},
   "outputs": [],
   "source": [
    "1 + \"1\""
   ]
  },
  {
   "cell_type": "code",
   "execution_count": null,
   "id": "ec4be359",
   "metadata": {},
   "outputs": [],
   "source": [
    "# 리스트 길이 구하기\n",
    "\n",
    "sum = [1,2,3] + [4,5,6]\n",
    "len(sum)"
   ]
  },
  {
   "cell_type": "code",
   "execution_count": null,
   "id": "3a6d1c70",
   "metadata": {},
   "outputs": [],
   "source": [
    "# 리스트 값 수정/삭제\n",
    "\n",
    "a = [\"a\", \"b\", \"c\", \"d\"]"
   ]
  },
  {
   "cell_type": "code",
   "execution_count": null,
   "id": "a734d65d",
   "metadata": {},
   "outputs": [],
   "source": [
    "# 수정 시에는 인덱싱 활용\n",
    "\n",
    "a[1] = \"Python\"\n",
    "a"
   ]
  },
  {
   "cell_type": "code",
   "execution_count": null,
   "id": "e9b0c34a",
   "metadata": {},
   "outputs": [],
   "source": [
    "# 삭제 시에는 del 함수 사용\n",
    "\n",
    "del a[0]\n",
    "a"
   ]
  },
  {
   "cell_type": "code",
   "execution_count": null,
   "id": "6216a870",
   "metadata": {},
   "outputs": [],
   "source": [
    "a[0]"
   ]
  },
  {
   "cell_type": "code",
   "execution_count": null,
   "id": "657f4246",
   "metadata": {},
   "outputs": [],
   "source": [
    "del a[1:]\n",
    "a"
   ]
  },
  {
   "cell_type": "markdown",
   "id": "0fd7ea15",
   "metadata": {},
   "source": [
    "#### Quiz 4. 아래 리스트의 \"old\" 를 \"new\" 로 바꾸고, \"this\", \"is\" 를 삭제해주세요\n",
    "change = [\"this\", \"is\", \"the\", \"old\", \"way\"]"
   ]
  },
  {
   "cell_type": "markdown",
   "id": "04982222",
   "metadata": {},
   "source": [
    "# "
   ]
  },
  {
   "cell_type": "markdown",
   "id": "24ef2bb5",
   "metadata": {},
   "source": [
    "# "
   ]
  },
  {
   "cell_type": "markdown",
   "id": "61b77fd2",
   "metadata": {},
   "source": [
    "# "
   ]
  },
  {
   "cell_type": "markdown",
   "id": "becf4b97",
   "metadata": {},
   "source": [
    "# "
   ]
  },
  {
   "cell_type": "markdown",
   "id": "2c051a98",
   "metadata": {},
   "source": [
    "# "
   ]
  },
  {
   "cell_type": "markdown",
   "id": "46681ca5",
   "metadata": {},
   "source": [
    "# "
   ]
  },
  {
   "cell_type": "code",
   "execution_count": null,
   "id": "046431e1",
   "metadata": {},
   "outputs": [],
   "source": [
    "change = [\"this\", \"is\", \"the\", \"old\", \"way\"]\n",
    "change[-2] = \"new\"\n",
    "change = change[2:]\n",
    "change"
   ]
  },
  {
   "cell_type": "code",
   "execution_count": null,
   "id": "e3bae1aa",
   "metadata": {},
   "outputs": [],
   "source": [
    "change = [\"this\", \"is\", \"the\", \"old\", \"way\"]\n",
    "change[3] = \"new\"\n",
    "del change[0]\n",
    "del change[0]\n",
    "change"
   ]
  },
  {
   "cell_type": "markdown",
   "id": "26f895b5",
   "metadata": {},
   "source": [
    "# "
   ]
  }
 ],
 "metadata": {
  "kernelspec": {
   "display_name": "Python 3 (ipykernel)",
   "language": "python",
   "name": "python3"
  },
  "language_info": {
   "codemirror_mode": {
    "name": "ipython",
    "version": 3
   },
   "file_extension": ".py",
   "mimetype": "text/x-python",
   "name": "python",
   "nbconvert_exporter": "python",
   "pygments_lexer": "ipython3",
   "version": "3.9.12"
  }
 },
 "nbformat": 4,
 "nbformat_minor": 5
}
