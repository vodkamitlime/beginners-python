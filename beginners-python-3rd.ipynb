{
 "cells": [
  {
   "cell_type": "markdown",
   "id": "89442d51",
   "metadata": {},
   "source": [
    "# 0교시 (09:30~10:30) \n",
    "\n",
    "### Recap\n",
    "- 문자열 포맷팅\n",
    "    - %s\n",
    "    - format()\n",
    "    - f string\n",
    "- 문자열 함수\n",
    "    - count\n",
    "    - find, index\n",
    "    - upper, lower\n",
    "    - strip, rstrip, lstrip\n",
    "    - replace\n",
    "    - split\n",
    "    - join\n",
    "- 배열 (List)\n",
    "    - list, element, index\n",
    "    - 슬라이싱\n",
    "    - 길이 구하기\n",
    "    - 수정/삭제\n"
   ]
  },
  {
   "cell_type": "markdown",
   "id": "baac1eed",
   "metadata": {},
   "source": [
    "# "
   ]
  },
  {
   "cell_type": "markdown",
   "id": "9f83db41",
   "metadata": {},
   "source": [
    "# "
   ]
  },
  {
   "cell_type": "markdown",
   "id": "47c77528",
   "metadata": {},
   "source": [
    "### 지난 시간 Q\n",
    "- [1,2,3] 에서 [[4,5],1,2,3] 만드는 방법? 바로 나옵니다 ~~! "
   ]
  },
  {
   "cell_type": "markdown",
   "id": "1750754d",
   "metadata": {},
   "source": [
    "# "
   ]
  },
  {
   "cell_type": "markdown",
   "id": "efb746de",
   "metadata": {},
   "source": [
    "# "
   ]
  },
  {
   "cell_type": "markdown",
   "id": "7916cb0d",
   "metadata": {},
   "source": [
    "### 리스트 함수\n"
   ]
  },
  {
   "cell_type": "markdown",
   "id": "7016870e",
   "metadata": {},
   "source": [
    "##### 함수 0: append, insert\n",
    "- element 를 추가하는 함수들"
   ]
  },
  {
   "cell_type": "markdown",
   "id": "28894771",
   "metadata": {},
   "source": [
    "##### append"
   ]
  },
  {
   "cell_type": "code",
   "execution_count": 99,
   "id": "b904093a",
   "metadata": {},
   "outputs": [
    {
     "name": "stdout",
     "output_type": "stream",
     "text": [
      "['apple', 'pear', 'banana']\n",
      "['apple', 'pear', 'banana', 'mango']\n"
     ]
    }
   ],
   "source": [
    "# 리스트 마지막에 element 추가\n",
    "fruits = ['apple', 'pear', 'banana']\n",
    "print(fruits)\n",
    "\n",
    "fruits.append('mango')\n",
    "print(fruits)"
   ]
  },
  {
   "cell_type": "code",
   "execution_count": 100,
   "id": "d3b3378f",
   "metadata": {},
   "outputs": [
    {
     "name": "stdout",
     "output_type": "stream",
     "text": [
      "['apple', 'pear', 'banana', 'mango', 1]\n",
      "['apple', 'pear', 'banana', 'mango', 1, ['strawberry', 'pineapple']]\n"
     ]
    }
   ],
   "source": [
    "# 다양한 자료형 추가 가능 \n",
    "fruits.append(1)\n",
    "print(fruits)\n",
    "\n",
    "fruits.append(['strawberry', 'pineapple'])\n",
    "print(fruits)"
   ]
  },
  {
   "cell_type": "code",
   "execution_count": 101,
   "id": "e6388ab6",
   "metadata": {},
   "outputs": [
    {
     "ename": "TypeError",
     "evalue": "list.append() takes exactly one argument (3 given)",
     "output_type": "error",
     "traceback": [
      "\u001b[0;31m---------------------------------------------------------------------------\u001b[0m",
      "\u001b[0;31mTypeError\u001b[0m                                 Traceback (most recent call last)",
      "Input \u001b[0;32mIn [101]\u001b[0m, in \u001b[0;36m<cell line: 2>\u001b[0;34m()\u001b[0m\n\u001b[1;32m      1\u001b[0m \u001b[38;5;66;03m# element 는 하나씩만 추가 가능\u001b[39;00m\n\u001b[0;32m----> 2\u001b[0m \u001b[43mfruits\u001b[49m\u001b[38;5;241;43m.\u001b[39;49m\u001b[43mappend\u001b[49m\u001b[43m(\u001b[49m\u001b[38;5;241;43m1\u001b[39;49m\u001b[43m,\u001b[49m\u001b[43m \u001b[49m\u001b[38;5;241;43m2\u001b[39;49m\u001b[43m,\u001b[49m\u001b[43m \u001b[49m\u001b[38;5;241;43m3\u001b[39;49m\u001b[43m)\u001b[49m\n\u001b[1;32m      3\u001b[0m \u001b[38;5;28mprint\u001b[39m(fruits)\n",
      "\u001b[0;31mTypeError\u001b[0m: list.append() takes exactly one argument (3 given)"
     ]
    }
   ],
   "source": [
    "# element 는 하나씩만 추가 가능\n",
    "fruits.append(1, 2, 3)\n",
    "print(fruits)"
   ]
  },
  {
   "cell_type": "markdown",
   "id": "d11154cd",
   "metadata": {},
   "source": [
    "##### insert"
   ]
  },
  {
   "cell_type": "code",
   "execution_count": 104,
   "id": "f343af15",
   "metadata": {},
   "outputs": [
    {
     "name": "stdout",
     "output_type": "stream",
     "text": [
      "['apple', 'pear', 'banana']\n",
      "['apple', 'mango', 'pear', 'banana']\n"
     ]
    }
   ],
   "source": [
    "# 리스트의 특정 인덱스에 element 추가\n",
    "fruits = ['apple', 'pear', 'banana']\n",
    "print(fruits)\n",
    "\n",
    "fruits.insert(1, 'mango')\n",
    "print(fruits)"
   ]
  },
  {
   "cell_type": "code",
   "execution_count": 103,
   "id": "ae618a6f",
   "metadata": {},
   "outputs": [
    {
     "name": "stdout",
     "output_type": "stream",
     "text": [
      "4\n"
     ]
    }
   ],
   "source": [
    "# fruits 리스트의 길이는?\n",
    "print(len(fruits))\n",
    "\n",
    "# 최대 인덱스는? \n",
    "# 3"
   ]
  },
  {
   "cell_type": "code",
   "execution_count": 109,
   "id": "60ed87f7",
   "metadata": {},
   "outputs": [
    {
     "name": "stdout",
     "output_type": "stream",
     "text": [
      "['strawberry', 'apple', 'mango', 'pear', 'banana', 'mango', 'mango', 'mango', 'mango']\n"
     ]
    }
   ],
   "source": [
    "# 리스트 길이보다 긴 index 에 넣으면?  \n",
    "fruits.insert(100, 'mango')\n",
    "print(fruits)"
   ]
  },
  {
   "cell_type": "code",
   "execution_count": 110,
   "id": "5918abd1",
   "metadata": {
    "scrolled": true
   },
   "outputs": [
    {
     "name": "stdout",
     "output_type": "stream",
     "text": [
      "['cherry', 'strawberry', 'apple', 'mango', 'pear', 'banana', 'mango', 'mango', 'mango', 'mango']\n"
     ]
    }
   ],
   "source": [
    "# 음수 index 에 넣으면?  \n",
    "fruits.insert(-100, 'cherry')\n",
    "print(fruits)"
   ]
  },
  {
   "cell_type": "markdown",
   "id": "73220a1f",
   "metadata": {},
   "source": [
    "# "
   ]
  },
  {
   "cell_type": "markdown",
   "id": "f7b35261",
   "metadata": {},
   "source": [
    "# "
   ]
  },
  {
   "cell_type": "markdown",
   "id": "1eebe8ea",
   "metadata": {},
   "source": [
    "##### 함수 1: sort"
   ]
  },
  {
   "cell_type": "code",
   "execution_count": 113,
   "id": "f0032e7c",
   "metadata": {},
   "outputs": [
    {
     "name": "stdout",
     "output_type": "stream",
     "text": [
      "[9, 5, 100, 30, 244]\n",
      "[5, 9, 30, 100, 244]\n"
     ]
    }
   ],
   "source": [
    "# 리스트 내부 element 들 정렬\n",
    "numbers = [9, 5, 100, 30, 244]\n",
    "print(numbers)\n",
    "\n",
    "numbers.sort() # 디폴트 오름차순\n",
    "print(numbers)"
   ]
  },
  {
   "cell_type": "code",
   "execution_count": 114,
   "id": "bde228d0",
   "metadata": {},
   "outputs": [
    {
     "name": "stdout",
     "output_type": "stream",
     "text": [
      "[9, 5, 100, 30, 244]\n",
      "[244, 100, 30, 9, 5]\n"
     ]
    }
   ],
   "source": [
    "# 내림차순? \n",
    "numbers = [9, 5, 100, 30, 244]\n",
    "print(numbers)\n",
    "\n",
    "numbers.sort(reverse = True)\n",
    "print(numbers)"
   ]
  },
  {
   "cell_type": "code",
   "execution_count": 115,
   "id": "182d6ded",
   "metadata": {},
   "outputs": [
    {
     "name": "stdout",
     "output_type": "stream",
     "text": [
      "['ant', 'camera', 'bear', 'cry']\n",
      "['ant', 'bear', 'camera', 'cry']\n"
     ]
    }
   ],
   "source": [
    "# 문자열 정렬 가능\n",
    "alphabets = ['ant', 'camera', 'bear', 'cry']\n",
    "print(alphabets)\n",
    "\n",
    "alphabets.sort()\n",
    "print(alphabets)"
   ]
  },
  {
   "cell_type": "markdown",
   "id": "88e04609",
   "metadata": {},
   "source": [
    "# "
   ]
  },
  {
   "cell_type": "markdown",
   "id": "81d3adeb",
   "metadata": {},
   "source": [
    "##### 함수 2: reverse"
   ]
  },
  {
   "cell_type": "code",
   "execution_count": 116,
   "id": "127eb7c4",
   "metadata": {},
   "outputs": [
    {
     "name": "stdout",
     "output_type": "stream",
     "text": [
      "[2, 4, 6, 8, 10]\n",
      "[10, 8, 6, 4, 2]\n"
     ]
    }
   ],
   "source": [
    "# 리스트 반대로 뒤집기 \n",
    "numbers = [2, 4, 6, 8, 10]\n",
    "print(numbers)\n",
    "\n",
    "numbers.reverse()\n",
    "print(numbers)"
   ]
  },
  {
   "cell_type": "markdown",
   "id": "d5e00177",
   "metadata": {},
   "source": [
    "# "
   ]
  },
  {
   "cell_type": "markdown",
   "id": "f51fa0db",
   "metadata": {},
   "source": [
    "##### 함수 3: index"
   ]
  },
  {
   "cell_type": "code",
   "execution_count": 117,
   "id": "78ea4046",
   "metadata": {},
   "outputs": [
    {
     "name": "stdout",
     "output_type": "stream",
     "text": [
      "4\n"
     ]
    }
   ],
   "source": [
    "# 찾는 element 의 index 반환\n",
    "numbers = [2, 4, 6, 8, 10]\n",
    "print(numbers.index(10))"
   ]
  },
  {
   "cell_type": "code",
   "execution_count": 118,
   "id": "bfa8e1a3",
   "metadata": {
    "scrolled": false
   },
   "outputs": [
    {
     "ename": "ValueError",
     "evalue": "12 is not in list",
     "output_type": "error",
     "traceback": [
      "\u001b[0;31m---------------------------------------------------------------------------\u001b[0m",
      "\u001b[0;31mValueError\u001b[0m                                Traceback (most recent call last)",
      "Input \u001b[0;32mIn [118]\u001b[0m, in \u001b[0;36m<cell line: 3>\u001b[0;34m()\u001b[0m\n\u001b[1;32m      1\u001b[0m \u001b[38;5;66;03m# 찾는 element 가 없으면? \u001b[39;00m\n\u001b[1;32m      2\u001b[0m numbers \u001b[38;5;241m=\u001b[39m [\u001b[38;5;241m2\u001b[39m, \u001b[38;5;241m4\u001b[39m, \u001b[38;5;241m6\u001b[39m, \u001b[38;5;241m8\u001b[39m, \u001b[38;5;241m10\u001b[39m]\n\u001b[0;32m----> 3\u001b[0m \u001b[38;5;28mprint\u001b[39m(\u001b[43mnumbers\u001b[49m\u001b[38;5;241;43m.\u001b[39;49m\u001b[43mindex\u001b[49m\u001b[43m(\u001b[49m\u001b[38;5;241;43m12\u001b[39;49m\u001b[43m)\u001b[49m)\n",
      "\u001b[0;31mValueError\u001b[0m: 12 is not in list"
     ]
    }
   ],
   "source": [
    "# 찾는 element 가 없으면? \n",
    "numbers = [2, 4, 6, 8, 10]\n",
    "print(numbers.index(12))"
   ]
  },
  {
   "cell_type": "markdown",
   "id": "bac1a879",
   "metadata": {},
   "source": [
    "# "
   ]
  },
  {
   "cell_type": "markdown",
   "id": "3133ade7",
   "metadata": {},
   "source": [
    "##### 함수 4: remove, pop\n",
    "- element 를 삭제하는 함수들"
   ]
  },
  {
   "cell_type": "code",
   "execution_count": 119,
   "id": "ba054a04",
   "metadata": {
    "scrolled": true
   },
   "outputs": [
    {
     "name": "stdout",
     "output_type": "stream",
     "text": [
      "['python', 'ruby', 'java', 'javascript']\n",
      "['ruby', 'java', 'javascript']\n"
     ]
    }
   ],
   "source": [
    "# ! 복습: del 도 가능 \n",
    "language = ['python', 'ruby', 'java', 'javascript']\n",
    "print(language)\n",
    "\n",
    "del language[0]\n",
    "print(language)"
   ]
  },
  {
   "cell_type": "markdown",
   "id": "25afc2a2",
   "metadata": {},
   "source": [
    "##### pop"
   ]
  },
  {
   "cell_type": "code",
   "execution_count": 120,
   "id": "115908a6",
   "metadata": {
    "scrolled": true
   },
   "outputs": [
    {
     "name": "stdout",
     "output_type": "stream",
     "text": [
      "['apple', 'pear', 'banana']\n",
      "['apple', 'pear']\n"
     ]
    }
   ],
   "source": [
    "# (디폴트) 리스트 맨 끝의 element 삭제 \n",
    "fruits = ['apple', 'pear', 'banana']\n",
    "print(fruits)\n",
    "\n",
    "fruits.pop()\n",
    "print(fruits)"
   ]
  },
  {
   "cell_type": "code",
   "execution_count": 125,
   "id": "7a324794",
   "metadata": {
    "scrolled": true
   },
   "outputs": [
    {
     "name": "stdout",
     "output_type": "stream",
     "text": [
      "['apple', 'pear', 'banana']\n",
      "['apple', 'banana']\n"
     ]
    }
   ],
   "source": [
    "# 지정된 index 의 element 삭제 가능\n",
    "fruits = ['apple', 'pear', 'banana']\n",
    "print(fruits)\n",
    "\n",
    "fruits.pop(1)\n",
    "print(fruits)"
   ]
  },
  {
   "cell_type": "markdown",
   "id": "42045061",
   "metadata": {},
   "source": [
    "##### remove"
   ]
  },
  {
   "cell_type": "code",
   "execution_count": 126,
   "id": "2cc16977",
   "metadata": {
    "scrolled": true
   },
   "outputs": [
    {
     "name": "stdout",
     "output_type": "stream",
     "text": [
      "['python', 'ruby', 'java', 'javascript']\n",
      "['python', 'ruby', 'java']\n"
     ]
    }
   ],
   "source": [
    "# 일치하는 element 삭제\n",
    "language = ['python', 'ruby', 'java', 'javascript']\n",
    "print(language)\n",
    "\n",
    "language.remove('javascript')\n",
    "print(language)"
   ]
  },
  {
   "cell_type": "code",
   "execution_count": 127,
   "id": "67a15396",
   "metadata": {
    "scrolled": true
   },
   "outputs": [
    {
     "name": "stdout",
     "output_type": "stream",
     "text": [
      "[1, 2, 3, 4, 1]\n",
      "[2, 3, 4, 1]\n"
     ]
    }
   ],
   "source": [
    "# 일치하는 ** 첫 번째 ** element 삭제\n",
    "nums = [1, 2, 3, 4, 1]\n",
    "print(nums)\n",
    "\n",
    "nums.remove(1)\n",
    "print(nums)"
   ]
  },
  {
   "cell_type": "markdown",
   "id": "be8ab941",
   "metadata": {},
   "source": [
    "# "
   ]
  },
  {
   "cell_type": "markdown",
   "id": "e1548773",
   "metadata": {},
   "source": [
    "##### 함수 5: count"
   ]
  },
  {
   "cell_type": "code",
   "execution_count": 128,
   "id": "5df06cdc",
   "metadata": {
    "scrolled": true
   },
   "outputs": [
    {
     "name": "stdout",
     "output_type": "stream",
     "text": [
      "1\n",
      "0\n"
     ]
    }
   ],
   "source": [
    "# element 개수 세기\n",
    "language = ['python', 'ruby', 'java', 'javascript']\n",
    "print(language.count('python'))\n",
    "print(language.count('carbon'))"
   ]
  },
  {
   "cell_type": "markdown",
   "id": "85b1e121",
   "metadata": {},
   "source": [
    "# "
   ]
  },
  {
   "cell_type": "markdown",
   "id": "78607205",
   "metadata": {},
   "source": [
    "##### 함수 6: join"
   ]
  },
  {
   "cell_type": "code",
   "execution_count": 129,
   "id": "7e080416",
   "metadata": {
    "scrolled": true
   },
   "outputs": [
    {
     "name": "stdout",
     "output_type": "stream",
     "text": [
      "a*b*c\n"
     ]
    }
   ],
   "source": [
    "# 문자열 (string) 의 join 역할과 유사\n",
    "# 리스트를 하나의 문자열로 연결\n",
    "\n",
    "letters = ['a', 'b', 'c'] # a*b*c\n",
    "print('*'.join(letters))"
   ]
  },
  {
   "cell_type": "code",
   "execution_count": 130,
   "id": "ab0c0755",
   "metadata": {
    "scrolled": true
   },
   "outputs": [
    {
     "ename": "TypeError",
     "evalue": "sequence item 0: expected str instance, int found",
     "output_type": "error",
     "traceback": [
      "\u001b[0;31m---------------------------------------------------------------------------\u001b[0m",
      "\u001b[0;31mTypeError\u001b[0m                                 Traceback (most recent call last)",
      "Input \u001b[0;32mIn [130]\u001b[0m, in \u001b[0;36m<cell line: 4>\u001b[0;34m()\u001b[0m\n\u001b[1;32m      1\u001b[0m \u001b[38;5;66;03m# 단, 리스트 안의 element 들이 문자열이어야 가능\u001b[39;00m\n\u001b[1;32m      3\u001b[0m nums \u001b[38;5;241m=\u001b[39m [\u001b[38;5;241m1\u001b[39m, \u001b[38;5;241m2\u001b[39m, \u001b[38;5;241m3\u001b[39m]\n\u001b[0;32m----> 4\u001b[0m \u001b[38;5;28mprint\u001b[39m(\u001b[38;5;124;43m'\u001b[39;49m\u001b[38;5;124;43m*\u001b[39;49m\u001b[38;5;124;43m'\u001b[39;49m\u001b[38;5;241;43m.\u001b[39;49m\u001b[43mjoin\u001b[49m\u001b[43m(\u001b[49m\u001b[43mnums\u001b[49m\u001b[43m)\u001b[49m)\n",
      "\u001b[0;31mTypeError\u001b[0m: sequence item 0: expected str instance, int found"
     ]
    }
   ],
   "source": [
    "# 단, 리스트 안의 element 들이 문자열이어야 가능\n",
    "\n",
    "nums = [1, 2, 3]\n",
    "print('*'.join(nums))"
   ]
  },
  {
   "cell_type": "markdown",
   "id": "dd9b81df",
   "metadata": {},
   "source": [
    "# "
   ]
  },
  {
   "cell_type": "markdown",
   "id": "52970833",
   "metadata": {},
   "source": [
    "#### Quiz 0\n",
    "\n",
    "##### (basic)\n",
    "['1월', '3월', '2월', '4월'] 을 ['1월', '2월', '3월', '4월'] 로 만들어보세요.\n",
    "\n",
    "##### (basic) \n",
    "같은 문제를 insert 와 remove 만을 사용해 풀어보세요."
   ]
  },
  {
   "cell_type": "markdown",
   "id": "7e97b8fe",
   "metadata": {},
   "source": [
    "# "
   ]
  },
  {
   "cell_type": "markdown",
   "id": "f8957711",
   "metadata": {},
   "source": [
    "# "
   ]
  },
  {
   "cell_type": "markdown",
   "id": "99ea5a18",
   "metadata": {},
   "source": [
    "# "
   ]
  },
  {
   "cell_type": "markdown",
   "id": "5c26ec88",
   "metadata": {},
   "source": [
    "# "
   ]
  },
  {
   "cell_type": "markdown",
   "id": "6bb467b2",
   "metadata": {},
   "source": [
    "# "
   ]
  },
  {
   "cell_type": "markdown",
   "id": "21d93418",
   "metadata": {},
   "source": [
    "# "
   ]
  },
  {
   "cell_type": "code",
   "execution_count": 131,
   "id": "b68e118a",
   "metadata": {
    "scrolled": true
   },
   "outputs": [
    {
     "name": "stdout",
     "output_type": "stream",
     "text": [
      "['1월', '2월', '3월', '4월']\n"
     ]
    }
   ],
   "source": [
    "# basic\n",
    "months = ['1월', '3월', '2월', '4월'] \n",
    "months.sort()\n",
    "print(months)"
   ]
  },
  {
   "cell_type": "code",
   "execution_count": 132,
   "id": "d25764b0",
   "metadata": {
    "scrolled": true
   },
   "outputs": [
    {
     "name": "stdout",
     "output_type": "stream",
     "text": [
      "['1월', '2월', '3월', '4월']\n"
     ]
    }
   ],
   "source": [
    "# basic\n",
    "months = ['1월', '3월', '2월', '4월'] \n",
    "months.remove('3월')\n",
    "months.insert(2, '3월')\n",
    "print(months)"
   ]
  },
  {
   "cell_type": "markdown",
   "id": "d92ffbe0",
   "metadata": {},
   "source": [
    "# "
   ]
  },
  {
   "cell_type": "markdown",
   "id": "826e724a",
   "metadata": {},
   "source": [
    "# "
   ]
  },
  {
   "cell_type": "markdown",
   "id": "d4103245",
   "metadata": {},
   "source": [
    "### Set (집합) \n",
    "- 유일한 값들의 모음 (중복을 허용하지 않음)"
   ]
  },
  {
   "cell_type": "code",
   "execution_count": 133,
   "id": "524ee97c",
   "metadata": {
    "scrolled": true
   },
   "outputs": [],
   "source": [
    "# set 생성 방법\n",
    "\n",
    "a = set()"
   ]
  },
  {
   "cell_type": "code",
   "execution_count": 134,
   "id": "77d42dc6",
   "metadata": {
    "scrolled": true
   },
   "outputs": [
    {
     "name": "stdout",
     "output_type": "stream",
     "text": [
      "{1, 2, 3}\n",
      "{1, 2, 3}\n"
     ]
    }
   ],
   "source": [
    "a = set([1, 2, 3])\n",
    "print(a)\n",
    "\n",
    "b = set([1, 2, 3, 3, 3])\n",
    "print(b)"
   ]
  },
  {
   "cell_type": "code",
   "execution_count": 135,
   "id": "37e85d7e",
   "metadata": {
    "scrolled": true
   },
   "outputs": [
    {
     "name": "stdout",
     "output_type": "stream",
     "text": [
      "{'h', 'o', 'e', 'l'}\n"
     ]
    }
   ],
   "source": [
    "# set 의 특징: 순서가 없음\n",
    "\n",
    "c = set('hello')\n",
    "print(c)"
   ]
  },
  {
   "cell_type": "code",
   "execution_count": 137,
   "id": "5eef7061",
   "metadata": {
    "scrolled": true
   },
   "outputs": [
    {
     "name": "stdout",
     "output_type": "stream",
     "text": [
      "{'h', 'o', 'e', 'l'}\n",
      "['h', 'o', 'e', 'l']\n"
     ]
    }
   ],
   "source": [
    "# list 함수를 사용하면, set 을 리스트로 만들 수 있음 \n",
    "\n",
    "c = set('hello')\n",
    "print(c)\n",
    "\n",
    "d = list(c)\n",
    "print(d)"
   ]
  },
  {
   "cell_type": "markdown",
   "id": "8b358b96",
   "metadata": {},
   "source": [
    "#### set 관련 함수들\n",
    "\n",
    "##### add"
   ]
  },
  {
   "cell_type": "code",
   "execution_count": 141,
   "id": "5c8f19c4",
   "metadata": {
    "scrolled": true
   },
   "outputs": [
    {
     "name": "stdout",
     "output_type": "stream",
     "text": [
      "{1, 2, 3}\n",
      "{1, 2, 3, 4, 5, 'test'}\n"
     ]
    }
   ],
   "source": [
    "# set 에 값을 1개 추가\n",
    "\n",
    "s = set([1,2,3])\n",
    "print(s)\n",
    "\n",
    "s.add(4)\n",
    "s.add(5)\n",
    "s.add(1)\n",
    "s.add('test')\n",
    "print(s)"
   ]
  },
  {
   "cell_type": "markdown",
   "id": "edb30aa0",
   "metadata": {},
   "source": [
    "##### update"
   ]
  },
  {
   "cell_type": "code",
   "execution_count": 142,
   "id": "dd8d6427",
   "metadata": {
    "scrolled": true
   },
   "outputs": [
    {
     "name": "stdout",
     "output_type": "stream",
     "text": [
      "{1, 2, 3}\n",
      "{1, 2, 3, 4, 5}\n"
     ]
    }
   ],
   "source": [
    "# set 에 값을 여러개 추가\n",
    "\n",
    "s = set([1,2,3])\n",
    "print(s)\n",
    "\n",
    "s.update([4, 5])\n",
    "print(s)"
   ]
  },
  {
   "cell_type": "markdown",
   "id": "81ee1d6e",
   "metadata": {},
   "source": [
    "##### remove"
   ]
  },
  {
   "cell_type": "code",
   "execution_count": 143,
   "id": "953bbdf4",
   "metadata": {
    "scrolled": true
   },
   "outputs": [
    {
     "name": "stdout",
     "output_type": "stream",
     "text": [
      "{1, 2, 3, 4, 5}\n",
      "{1, 2, 3, 5}\n"
     ]
    }
   ],
   "source": [
    "# set 에서 값 제거\n",
    "\n",
    "s = set([1,2,3,4,5])\n",
    "print(s)\n",
    "\n",
    "s.remove(4)\n",
    "print(s)"
   ]
  },
  {
   "cell_type": "markdown",
   "id": "a6a4ab33",
   "metadata": {},
   "source": [
    "# "
   ]
  },
  {
   "cell_type": "markdown",
   "id": "919237d2",
   "metadata": {},
   "source": [
    "#### Quiz 1\n",
    "set('happy') 를 만들면 {'h', 'y', 'p', 'a'} 결과가 (예시) 반환됩니다.\n",
    "\n",
    "##### (basic)\n",
    "위 set 을 리스트로 만들고, 알파벳 순으로 정렬해보세요.\n",
    "\n",
    "##### (challenge) \n",
    "위 set 을 다시 문자열 'happy' 로 만들어 보세요. (힌트: set 을 먼저 리스트로 변환해야 함)"
   ]
  },
  {
   "cell_type": "markdown",
   "id": "2dd7251e",
   "metadata": {},
   "source": [
    "# "
   ]
  },
  {
   "cell_type": "markdown",
   "id": "170678a3",
   "metadata": {},
   "source": [
    "# "
   ]
  },
  {
   "cell_type": "markdown",
   "id": "753f3455",
   "metadata": {},
   "source": [
    "# "
   ]
  },
  {
   "cell_type": "markdown",
   "id": "9382d625",
   "metadata": {},
   "source": [
    "# "
   ]
  },
  {
   "cell_type": "markdown",
   "id": "87102826",
   "metadata": {},
   "source": [
    "# "
   ]
  },
  {
   "cell_type": "code",
   "execution_count": null,
   "id": "af7ebe50",
   "metadata": {
    "scrolled": true
   },
   "outputs": [],
   "source": [
    "# basic\n",
    "answer = set('happy')\n",
    "answer = list(answer)\n",
    "answer.sort()\n",
    "\n",
    "print(answer)"
   ]
  },
  {
   "cell_type": "code",
   "execution_count": 151,
   "id": "8edb4d10",
   "metadata": {
    "scrolled": true
   },
   "outputs": [
    {
     "name": "stdout",
     "output_type": "stream",
     "text": [
      "happy\n"
     ]
    }
   ],
   "source": [
    "# challenge\n",
    "answer = set('happy')\n",
    "answer = list(answer)\n",
    "answer.sort()\n",
    "answer.remove('a')\n",
    "answer.insert(1, 'ap')\n",
    "\n",
    "print(''.join(answer))"
   ]
  },
  {
   "cell_type": "markdown",
   "id": "c600dc34",
   "metadata": {},
   "source": [
    "# "
   ]
  },
  {
   "cell_type": "markdown",
   "id": "a770a64d",
   "metadata": {},
   "source": [
    "# "
   ]
  },
  {
   "cell_type": "markdown",
   "id": "07d55609",
   "metadata": {},
   "source": [
    "### Boolean \n",
    "- 줄여서 bool \n",
    "- 참거짓을 나타내는 자료형\n",
    "- True, False 로 표시 (꼭! 대문자 사용해야 함)"
   ]
  },
  {
   "cell_type": "code",
   "execution_count": 152,
   "id": "505046a6",
   "metadata": {
    "scrolled": true
   },
   "outputs": [
    {
     "name": "stdout",
     "output_type": "stream",
     "text": [
      "True\n",
      "False\n"
     ]
    }
   ],
   "source": [
    "a = True\n",
    "b = False\n",
    "\n",
    "print(a)\n",
    "print(b)"
   ]
  },
  {
   "cell_type": "code",
   "execution_count": 153,
   "id": "94630383",
   "metadata": {
    "scrolled": true
   },
   "outputs": [
    {
     "ename": "NameError",
     "evalue": "name 'true' is not defined",
     "output_type": "error",
     "traceback": [
      "\u001b[0;31m---------------------------------------------------------------------------\u001b[0m",
      "\u001b[0;31mNameError\u001b[0m                                 Traceback (most recent call last)",
      "Input \u001b[0;32mIn [153]\u001b[0m, in \u001b[0;36m<cell line: 1>\u001b[0;34m()\u001b[0m\n\u001b[0;32m----> 1\u001b[0m a \u001b[38;5;241m=\u001b[39m \u001b[43mtrue\u001b[49m\n",
      "\u001b[0;31mNameError\u001b[0m: name 'true' is not defined"
     ]
    }
   ],
   "source": [
    "a = true"
   ]
  },
  {
   "cell_type": "code",
   "execution_count": 154,
   "id": "946a849c",
   "metadata": {
    "scrolled": true
   },
   "outputs": [
    {
     "name": "stdout",
     "output_type": "stream",
     "text": [
      "True\n",
      "False\n",
      "True\n",
      "True\n"
     ]
    }
   ],
   "source": [
    "# 언제 사용하나? \n",
    "# 특정 조건이 참인지, 거짓인지 나타낼 때\n",
    "# 파이썬의 비교 연산자와 자주 사용 (==, !=, >, <)\n",
    "\n",
    "print(1 > 0)\n",
    "print(10 < 10)\n",
    "print(1 == 1)\n",
    "print(1 != 3)"
   ]
  },
  {
   "cell_type": "code",
   "execution_count": 155,
   "id": "d1c2eeb5",
   "metadata": {
    "scrolled": true
   },
   "outputs": [
    {
     "data": {
      "text/plain": [
       "True"
      ]
     },
     "execution_count": 155,
     "metadata": {},
     "output_type": "execute_result"
    }
   ],
   "source": [
    "# 연산을 하지 않아도, 어떤 값 자체가 참 또는 거짓이 될 수 있음 \n",
    "# 이를 판단하기 위한 명령어: bool()\n",
    "\n",
    "bool('python')"
   ]
  },
  {
   "cell_type": "code",
   "execution_count": 160,
   "id": "915effac",
   "metadata": {
    "scrolled": true
   },
   "outputs": [
    {
     "data": {
      "text/plain": [
       "True"
      ]
     },
     "execution_count": 160,
     "metadata": {},
     "output_type": "execute_result"
    }
   ],
   "source": [
    "# 참인 값들\n",
    "\n",
    "bool('?') # 비어 있지 않은 문자열"
   ]
  },
  {
   "cell_type": "code",
   "execution_count": 161,
   "id": "69b22b46",
   "metadata": {},
   "outputs": [
    {
     "data": {
      "text/plain": [
       "True"
      ]
     },
     "execution_count": 161,
     "metadata": {},
     "output_type": "execute_result"
    }
   ],
   "source": [
    "bool([1, 2, 3]) # 비어 있지 않은 리스트"
   ]
  },
  {
   "cell_type": "code",
   "execution_count": 164,
   "id": "a71f7764",
   "metadata": {},
   "outputs": [
    {
     "data": {
      "text/plain": [
       "True"
      ]
     },
     "execution_count": 164,
     "metadata": {},
     "output_type": "execute_result"
    }
   ],
   "source": [
    "bool(-100) # 0 이 아닌 모든 숫자 (음수 포함)"
   ]
  },
  {
   "cell_type": "code",
   "execution_count": 165,
   "id": "dff5d3a3",
   "metadata": {},
   "outputs": [
    {
     "data": {
      "text/plain": [
       "False"
      ]
     },
     "execution_count": 165,
     "metadata": {},
     "output_type": "execute_result"
    }
   ],
   "source": [
    "# 거짓인 값들\n",
    "\n",
    "bool('') # 비어 있는 문자열"
   ]
  },
  {
   "cell_type": "code",
   "execution_count": 166,
   "id": "58283196",
   "metadata": {},
   "outputs": [
    {
     "data": {
      "text/plain": [
       "False"
      ]
     },
     "execution_count": 166,
     "metadata": {},
     "output_type": "execute_result"
    }
   ],
   "source": [
    "bool([]) # 비어 있는 리스트"
   ]
  },
  {
   "cell_type": "code",
   "execution_count": 167,
   "id": "d77ddd77",
   "metadata": {
    "scrolled": true
   },
   "outputs": [
    {
     "data": {
      "text/plain": [
       "False"
      ]
     },
     "execution_count": 167,
     "metadata": {},
     "output_type": "execute_result"
    }
   ],
   "source": [
    "bool(0) # 숫자 0"
   ]
  },
  {
   "cell_type": "markdown",
   "id": "26f895b5",
   "metadata": {},
   "source": [
    "# "
   ]
  },
  {
   "cell_type": "markdown",
   "id": "6ec04dd2",
   "metadata": {},
   "source": [
    "### 제어문\n",
    "- 조건문 (if)\n",
    "    - 만약 하은이가 학생이라면, 수익이 없을 것이다. \n",
    "    - if Haeun is a student, then she will have no income.\n",
    "- 반복문 (while, for) \n",
    "    - 하은이가 학생인 동안, 공부를 할 것이다. \n",
    "    - while Haeun is a student, she will study.\n",
    "    - 10일 동안, 하은이는 책을 한 권 읽을 것이다.\n",
    "    - for 10 days, Haeun will read a book. "
   ]
  },
  {
   "cell_type": "markdown",
   "id": "e104d645",
   "metadata": {},
   "source": [
    "#### 조건문 (if)"
   ]
  },
  {
   "cell_type": "code",
   "execution_count": 168,
   "id": "e39fb3d0",
   "metadata": {},
   "outputs": [
    {
     "name": "stdout",
     "output_type": "stream",
     "text": [
      "결과\n"
     ]
    }
   ],
   "source": [
    "# 만약 하은이가 학생이라면, 수익이 없을 것이다.\n",
    "# if Haeun is a student, then she will have no income.\n",
    "# if (조건이 참이라면), then (어떤 결과가 있을 것이다)\n",
    "    \n",
    "if True: # if (조건이 참이라면)\n",
    "    print(\"결과\") # then (어떤 결과가 있을 것이다)"
   ]
  },
  {
   "cell_type": "code",
   "execution_count": 169,
   "id": "352d4aba",
   "metadata": {},
   "outputs": [
    {
     "name": "stdout",
     "output_type": "stream",
     "text": [
      "출력이 됩니다.\n",
      "얘도 출력이 됩니다.\n"
     ]
    }
   ],
   "source": [
    "if (100 == 100):\n",
    "    print(\"출력이 됩니다.\")\n",
    "    \n",
    "if 100 == 100:\n",
    "    print(\"얘도 출력이 됩니다.\")"
   ]
  },
  {
   "cell_type": "code",
   "execution_count": 172,
   "id": "9107acc1",
   "metadata": {},
   "outputs": [
    {
     "name": "stdout",
     "output_type": "stream",
     "text": [
      "출력이 될까요? 2\n",
      "출력이 될까요? 3\n"
     ]
    }
   ],
   "source": [
    "if 'a' == 'b':\n",
    "    print(\"출력이 될까요?\")\n",
    "    \n",
    "if 'a' == 'a':\n",
    "    print(\"출력이 될까요? 2\")\n",
    "    \n",
    "if 'a' != 'b':\n",
    "    print(\"출력이 될까요? 3\")"
   ]
  },
  {
   "cell_type": "code",
   "execution_count": null,
   "id": "05016740",
   "metadata": {},
   "outputs": [],
   "source": [
    "# 왜 위와 같은 결과가 나왔을까요? \n",
    "# 출력이 되도록 하려면 무엇을 수정해야 할까요? "
   ]
  },
  {
   "cell_type": "markdown",
   "id": "3876d12d",
   "metadata": {},
   "source": [
    "#### 조건문 (if-else)"
   ]
  },
  {
   "cell_type": "code",
   "execution_count": 174,
   "id": "bd5a49b4",
   "metadata": {},
   "outputs": [
    {
     "name": "stdout",
     "output_type": "stream",
     "text": [
      "조건이 거짓이었네요\n"
     ]
    }
   ],
   "source": [
    "# if - else\n",
    "# 만약 하은이가 학생이라면, 수익이 없을 것이다. 그렇지 않다면, 수익이 있을 것이다. \n",
    "# if Haeun is a student, then she will have no income. Else, then she will have income.\n",
    "# if (조건이 참이라면), then (어떤 결과가 있을 것이다). Else (조건이 참이 아니라면), then (또 다른 결과가 있을 것이다)\n",
    "\n",
    "if False: # if (조건이 참이라면)\n",
    "    print(\"조건이 참이었네요\") # then (어떤 결과가 있을 것이다)\n",
    "else: # else (조건이 참이 아니라면)\n",
    "    print(\"조건이 거짓이었네요\") # then (또 다른 결과가 있을 것이다)"
   ]
  },
  {
   "cell_type": "code",
   "execution_count": 175,
   "id": "ee1e52fb",
   "metadata": {},
   "outputs": [
    {
     "name": "stdout",
     "output_type": "stream",
     "text": [
      "흑흑 실패\n"
     ]
    }
   ],
   "source": [
    "if 1 < 0:\n",
    "    print(\"야호! 성공!\")\n",
    "else:\n",
    "    print(\"흑흑 실패\")"
   ]
  },
  {
   "cell_type": "code",
   "execution_count": 176,
   "id": "baed3ea1",
   "metadata": {},
   "outputs": [
    {
     "name": "stdout",
     "output_type": "stream",
     "text": [
      "부자\n"
     ]
    }
   ],
   "source": [
    "money = True\n",
    "if money:\n",
    "    print(\"부자\")\n",
    "else:\n",
    "    print(\"거지\")"
   ]
  },
  {
   "cell_type": "code",
   "execution_count": 177,
   "id": "ec389531",
   "metadata": {},
   "outputs": [
    {
     "name": "stdout",
     "output_type": "stream",
     "text": [
      "카페 가기\n",
      "서점 가기\n",
      "청소 하기\n"
     ]
    }
   ],
   "source": [
    "# 만약 내일이 휴일이라면, 카페도 가고 서점도 가고 청소도 하고 싶다. 만약 내일이 휴일이 아니라면, 퇴사할 것이다. \n",
    "\n",
    "tomorrow = '휴일'\n",
    "if tomorrow == '휴일':\n",
    "    print('카페 가기')\n",
    "    print('서점 가기')\n",
    "    print('청소 하기')\n",
    "else:\n",
    "    print('퇴사하기')"
   ]
  },
  {
   "cell_type": "code",
   "execution_count": 178,
   "id": "835c0464",
   "metadata": {},
   "outputs": [
    {
     "name": "stdout",
     "output_type": "stream",
     "text": [
      "['i', 'am', 'happy']\n"
     ]
    }
   ],
   "source": [
    "money = False\n",
    "if money:\n",
    "    financial_status = '풍요로움'\n",
    "    physical_status = '편안함'\n",
    "    print(financial_status, physical_status)\n",
    "else:\n",
    "    string = 'i am happy'\n",
    "    l = string.split()\n",
    "    print(l)"
   ]
  },
  {
   "cell_type": "code",
   "execution_count": 181,
   "id": "a295ff3f",
   "metadata": {},
   "outputs": [
    {
     "ename": "IndentationError",
     "evalue": "unexpected indent (2703525268.py, line 7)",
     "output_type": "error",
     "traceback": [
      "\u001b[0;36m  Input \u001b[0;32mIn [181]\u001b[0;36m\u001b[0m\n\u001b[0;31m    print(\"신난다\")\u001b[0m\n\u001b[0m    ^\u001b[0m\n\u001b[0;31mIndentationError\u001b[0m\u001b[0;31m:\u001b[0m unexpected indent\n"
     ]
    }
   ],
   "source": [
    "# indent (들여쓰기) 의 중요성\n",
    "\n",
    "money = True\n",
    "if money:\n",
    "    print(\"부자\")\n",
    "print(\"야호\")\n",
    "    print(\"신난다\")\n",
    "else:\n",
    "    print(\"거지\")"
   ]
  },
  {
   "cell_type": "code",
   "execution_count": 182,
   "id": "6e169cc0",
   "metadata": {},
   "outputs": [
    {
     "ename": "IndentationError",
     "evalue": "unexpected indent (2317177108.py, line 5)",
     "output_type": "error",
     "traceback": [
      "\u001b[0;36m  Input \u001b[0;32mIn [182]\u001b[0;36m\u001b[0m\n\u001b[0;31m    print(\"신난다\")\u001b[0m\n\u001b[0m    ^\u001b[0m\n\u001b[0;31mIndentationError\u001b[0m\u001b[0;31m:\u001b[0m unexpected indent\n"
     ]
    }
   ],
   "source": [
    "money = True\n",
    "if money:\n",
    "    print(\"부자\")\n",
    "    print(\"야호\")\n",
    "        print(\"신난다\")\n",
    "else:\n",
    "    print(\"거지\")"
   ]
  },
  {
   "cell_type": "markdown",
   "id": "4aad40c9",
   "metadata": {},
   "source": [
    "#### 조건문 (if-elif-else)"
   ]
  },
  {
   "cell_type": "code",
   "execution_count": 184,
   "id": "6cd844c5",
   "metadata": {},
   "outputs": [
    {
     "name": "stdout",
     "output_type": "stream",
     "text": [
      "$ 있음\n",
      "새로운 코드\n"
     ]
    }
   ],
   "source": [
    "# if - else if - else\n",
    "# 만약 하은이가 학생이라면, 수익이 없을 것이다. 만약 직장인이라면, 수익이 있을 것이다. 그렇지 않다면, 백수일 것이다. \n",
    "# if Haeun is a student, then she will have no income. Else if she is working, she will have income. Else, she will be unemployed.\n",
    "# if (조건이 참이라면), then (어떤 결과가 있을 것이다). Else if (다른 조건이 참이라면), (어떤 결과가 있을 것이다.). Else (조건이 참이 아니라면), then (또 다른 결과가 있을 것이다)\n",
    "\n",
    "haeun = 'employed'\n",
    "\n",
    "if haeun == 'student': \n",
    "    print(\"$ 없음\")\n",
    "elif haeun == 'employed':\n",
    "    print(\"$ 있음\")\n",
    "else: \n",
    "    print(\"백수 ㅠㅠ\") \n",
    "    \n",
    "print('새로운 코드')"
   ]
  },
  {
   "cell_type": "code",
   "execution_count": 185,
   "id": "d409044e",
   "metadata": {},
   "outputs": [
    {
     "name": "stdout",
     "output_type": "stream",
     "text": [
      "쓴 커피입니다\n"
     ]
    }
   ],
   "source": [
    "# elif 추가 가능\n",
    "\n",
    "coffee = 'americano'\n",
    "\n",
    "if coffee == 'americano': \n",
    "    print(\"쓴 커피입니다\")\n",
    "elif coffee == 'latte':\n",
    "    print(\"부드러운 커피입니다\")\n",
    "elif coffee == 'caramel':\n",
    "    print(\"달달한 커피입니다\")\n",
    "else: \n",
    "    print(\"뭔지 모름\") "
   ]
  },
  {
   "cell_type": "code",
   "execution_count": 188,
   "id": "93fb62fa",
   "metadata": {},
   "outputs": [
    {
     "name": "stdout",
     "output_type": "stream",
     "text": [
      "달달한 커피입니다\n"
     ]
    }
   ],
   "source": [
    "# 중첩 if 문 추가 가능\n",
    "\n",
    "coffee = 'caramel'\n",
    "syrup = 'hazelnut'\n",
    "\n",
    "if coffee == 'americano': \n",
    "    print(\"쓴 커피입니다\")\n",
    "elif coffee == 'latte':\n",
    "    print(\"부드러운 커피입니다\")\n",
    "    if syrup == 'vanilla':\n",
    "        print(\"바닐라 라떼\")\n",
    "    elif syrup == 'hazelnut':\n",
    "        print(\"헤이즐넛 라떼\")\n",
    "    else: \n",
    "        print(\"기본 라떼\")\n",
    "elif coffee == 'caramel':\n",
    "    print(\"달달한 커피입니다\")\n",
    "else: \n",
    "    print(\"뭔지 모름\") "
   ]
  },
  {
   "cell_type": "markdown",
   "id": "653feb6b",
   "metadata": {},
   "source": [
    "# "
   ]
  },
  {
   "cell_type": "markdown",
   "id": "1069aa9c",
   "metadata": {},
   "source": [
    "#### Quiz 2\n",
    "아래 문장을 if 조건문으로 작성해보세요. \n",
    "\n",
    "##### (basic)\n",
    "만약 아이유가 콘서트를 열면, 티켓팅을 할 것이다. 그렇지 않다면, 티켓팅을 하지 않을 것이다.\n",
    "\n",
    "##### (challenge) \n",
    "만약 아이유가 콘서트를 열면, 티켓팅을 할 것이다. 그렇지 않다면, 티켓팅을 하지 않을 것이다. 공연일이 주말이라면, 숙소도 알아볼 것이고, 그렇지 않다면, 알아보지 않을 것이다. 주말 공연인데 공연일이 일요일이라면, 교회에 갔다가 콘서트에 갈 것이고, 토요일이라면, 집에 있다가 콘서트에 갈 것이다. \n",
    "\n",
    "##### (challenge-1)\n",
    "숫자가 두 개 있는 리스트를 받고, 0번째 숫자가 홀수이면 0번째와 1번째 숫자를 더하고, 1번째 숫자가 홀수이면 0번째와 1번째 숫자를 곱하는 if-elif-else 문을 만들어 보세요. "
   ]
  },
  {
   "cell_type": "markdown",
   "id": "14cd8c93",
   "metadata": {},
   "source": [
    "# "
   ]
  },
  {
   "cell_type": "code",
   "execution_count": 194,
   "id": "f8a382ac",
   "metadata": {},
   "outputs": [
    {
     "name": "stdout",
     "output_type": "stream",
     "text": [
      "노년기\n",
      "노년기\n",
      "장년기\n",
      "청년기\n"
     ]
    }
   ],
   "source": [
    "# if-elif-else 와 if 여러번의 차이 \n",
    "\n",
    "age = 61\n",
    "\n",
    "if age > 60:\n",
    "    print(\"노년기\")\n",
    "elif age > 40:\n",
    "    print(\"장년기\")\n",
    "elif age > 20:\n",
    "    print(\"청년기\")\n",
    "else:\n",
    "    print(\"응애\")\n",
    "    \n",
    "if age > 60:\n",
    "    print(\"노년기\")\n",
    "if age > 40:\n",
    "    print(\"장년기\")\n",
    "if age > 20:\n",
    "    print(\"청년기\")\n",
    "else:\n",
    "    print(\"응애\")"
   ]
  },
  {
   "cell_type": "code",
   "execution_count": null,
   "id": "9d1cdef2",
   "metadata": {},
   "outputs": [],
   "source": []
  }
 ],
 "metadata": {
  "kernelspec": {
   "display_name": "Python 3 (ipykernel)",
   "language": "python",
   "name": "python3"
  },
  "language_info": {
   "codemirror_mode": {
    "name": "ipython",
    "version": 3
   },
   "file_extension": ".py",
   "mimetype": "text/x-python",
   "name": "python",
   "nbconvert_exporter": "python",
   "pygments_lexer": "ipython3",
   "version": "3.9.12"
  }
 },
 "nbformat": 4,
 "nbformat_minor": 5
}
